{
 "cells": [
  {
   "cell_type": "markdown",
   "metadata": {},
   "source": [
    "# Indexing Scholarly Research Articles"
   ]
  },
  {
   "cell_type": "markdown",
   "metadata": {},
   "source": [
    "Pipeline for creating and analysing scientific networks. The first phase is downloading the publicly available data. The second phase is to extract the data of the provided date range. The third phase is to filter the cited and citing nodes of DOIs. The fourth phase is to load the data as scientific networks. Finally, the last phase is to index the articles.\n",
    "Publicly available dumps of both Crossref and COCI are free for use. Other than downloading the data, it is also needed to have seed DOIs. The steps are not dependent on each other but subsequent phases depend on data being placed in correct directories."
   ]
  },
  {
   "cell_type": "code",
   "execution_count": 1,
   "metadata": {},
   "outputs": [
    {
     "name": "stderr",
     "output_type": "stream",
     "text": [
      "C:\\ProgramData\\Anaconda3\\lib\\site-packages\\pandas\\compat\\_optional.py:138: UserWarning: Pandas requires version '2.7.0' or newer of 'numexpr' (version '2.6.9' currently installed).\n",
      "  warnings.warn(msg, UserWarning)\n",
      "C:\\ProgramData\\Anaconda3\\lib\\site-packages\\statsmodels\\tools\\_testing.py:19: FutureWarning: pandas.util.testing is deprecated. Use the functions in the public API at pandas.testing instead.\n",
      "  import pandas.util.testing as tm\n"
     ]
    }
   ],
   "source": [
    "%load_ext autoreload\n",
    "%autoreload 2\n",
    "\n",
    "import Extract, Transform, Load, Index"
   ]
  },
  {
   "cell_type": "markdown",
   "metadata": {},
   "source": [
    "# Input"
   ]
  },
  {
   "cell_type": "code",
   "execution_count": 2,
   "metadata": {},
   "outputs": [
    {
     "name": "stdout",
     "output_type": "stream",
     "text": [
      "Please have following files created\n",
      "../DATA/\n",
      "../IND2/\n",
      "../DATA/Crossref/crossref_public_data_file_2021_01/*.json.gz\n",
      "../DATA/COCI/csv/*.csv\n"
     ]
    }
   ],
   "source": [
    "#Input use case name to append \n",
    "usecase=\"IND2\" \n",
    "\n",
    "'''\n",
    "BIB1: Bibliometric Study with seminal seed DOIs\n",
    "BIB2: Bibliometric Study with random seed DOIs\n",
    "IND1: Indicators Review with seminal seed DOIs\n",
    "IND2: Indicators Review with random seed DOIs\n",
    "COM: Community Review with random seed DOIs\n",
    "'''\n",
    "\n",
    "#Input random network Flag\n",
    "randomFlag = False\n",
    "\n",
    "#Input citation cascade details / total ego levels \n",
    "totalLevels = 3\n",
    "\n",
    "# Input DASK configurations\n",
    "physicalCores = 8\n",
    "virtualPerCore = 2\n",
    "\n",
    "#Input data directory to use\n",
    "DataDir = \"../DATA/\"\n",
    "usecaseDIR= \"../\"+usecase+\"/\"\n",
    "path_to_crossref = DataDir+\"Crossref/crossref_public_data_file_2021_01/*.json.gz\"\n",
    "path_to_COCI = DataDir+\"COCI/csv/*.csv\"\n",
    "\n",
    "print(\"Please have following files created\")\n",
    "print(DataDir)\n",
    "print(usecaseDIR)\n",
    "print(path_to_crossref)\n",
    "print(path_to_COCI)"
   ]
  },
  {
   "cell_type": "markdown",
   "metadata": {},
   "source": [
    "# Extraction Phase"
   ]
  },
  {
   "cell_type": "markdown",
   "metadata": {},
   "source": [
    "This phase concerns extracting the metadata for an input date range. Only the past decade is considered to give equal chance to early career researchers. It is also needed to curtail processing all the data. The date range should be selected based on the available processing and RAM. To process large files, DASK is used for out-of-core processing. It can be scaled to multi-node clusters. The steps are not dependent on each other but subsequent phases depend on relevant data being extracted that can fit in memory.\n"
   ]
  },
  {
   "cell_type": "code",
   "execution_count": 3,
   "metadata": {},
   "outputs": [],
   "source": [
    "#Date range\n",
    "if usecase[0:3]==\"BIB\":\n",
    "    start_year = 2010\n",
    "    end_year = 2020\n",
    "elif usecase[0:3]==\"IND\":\n",
    "    start_year = 1985\n",
    "    end_year = 2015\n",
    "elif usecase[0:3]==\"COM\":\n",
    "    start_year = 1970\n",
    "    end_year = 2009\n",
    "else:\n",
    "    start_year = 1985\n",
    "    end_year = 2020\n"
   ]
  },
  {
   "cell_type": "code",
   "execution_count": 4,
   "metadata": {},
   "outputs": [],
   "source": [
    "#Directory sub folders path\n",
    "path_to_crossref_parquet = DataDir+\"Crossref/\"+str(start_year)+\"parquet\"+str(end_year)+\"/\"\n",
    "metadataFull = DataDir+\"Crossref/\"+str(start_year)+\"metadata\"+str(end_year)+\".pkl\"\n",
    "citNetFull = DataDir+\"COCI/\"+str(start_year)+\"COCI\"+str(end_year)+\".pkl\"\n",
    "\n",
    "CrossrefColsDF = ['DOI','Title','Venue','Authors','Year']\n",
    "\n",
    "path_to_COCI_parquet = DataDir+\"COCI/\"+str(start_year)+\"parquet\"+str(end_year)+\"/\"\n",
    "COCIColsDDF=['citing','cited','creation', 'oci']"
   ]
  },
  {
   "cell_type": "markdown",
   "metadata": {},
   "source": [
    "#### Extract metadata for the provided date range in parquet format\n",
    "This step relates to creating a parquet binary file format for Crossref JSON. It is needed for the fast processing of subsequent steps. For a date range 2010-2020 this requires around 15 GB of space. This is a compute-heavy step and takes approximately five hours to complete. It uses a DASK Bag to read the JSON files."
   ]
  },
  {
   "cell_type": "code",
   "execution_count": null,
   "metadata": {
    "scrolled": true
   },
   "outputs": [],
   "source": [
    "%time Extract.convertCrossrefJSONDumpToParquetDDF(path_to_crossref, path_to_crossref_parquet, physicalCores, virtualPerCore, start_year, end_year)"
   ]
  },
  {
   "cell_type": "markdown",
   "metadata": {},
   "source": [
    "#### Convert parquet to pickle format\n",
    "This step relates to extracting relevant columns of metadata to pickle format. It is a memory-intensive step and takes approximately an hour to complete. It creates a 16 GB binary file that is used by subsequent phases.\n"
   ]
  },
  {
   "cell_type": "code",
   "execution_count": null,
   "metadata": {},
   "outputs": [],
   "source": [
    "%time Extract.convertParquetToPickleDF (path_to_crossref_parquet, CrossrefColsDF, metadataFull)"
   ]
  },
  {
   "cell_type": "markdown",
   "metadata": {},
   "source": [
    "#### Extract COCI for the provided date range in parquet format\n",
    "This step relates to creating a parquet binary file format for COCI. It is needed for the fast processing of subsequent steps. For a date range from the year 2010 to the year 2020, this requires around 45 GB of space. This is a compute-heavy step and takes approximately three hours to complete. It uses a DASK Dataframe to read the CSV files."
   ]
  },
  {
   "cell_type": "code",
   "execution_count": null,
   "metadata": {},
   "outputs": [],
   "source": [
    "%time Extract.convertCOCIDumpToParquetDDF (path_to_COCI, COCIColsDDF, physicalCores, virtualPerCore, path_to_COCI_parquet, start_year, end_year)"
   ]
  },
  {
   "cell_type": "markdown",
   "metadata": {},
   "source": [
    "# Transformation Phase"
   ]
  },
  {
   "cell_type": "markdown",
   "metadata": {},
   "source": [
    "This phase concerns transforming the data acquired to a format that is suitable for loading to the network processing library. The steps are dependent on their preceding steps. This phases takes around 2 hours to complete."
   ]
  },
  {
   "cell_type": "code",
   "execution_count": 5,
   "metadata": {},
   "outputs": [],
   "source": [
    "DOIPkl = usecaseDIR+\"DOIs.pkl\"\n",
    "DOItestPkl = usecaseDIR+\"DOItest.pkl\"\n",
    "refDf = usecaseDIR+\"refDf.pkl\""
   ]
  },
  {
   "cell_type": "code",
   "execution_count": 7,
   "metadata": {},
   "outputs": [],
   "source": [
    "#reference DOI or URL for comparisons \n",
    "if usecase[0:3]==\"IND2\":\n",
    "    refDOI = '10.1016/j.physrep.2009.11.002' #for COM\n",
    "else:\n",
    "    refDOI = '10.1016/j.joi.2016.02.007' #for IND\n",
    "\n",
    "refURL = \"https://ndownloader.figstatic.com/files/30873946\" #for BIB\n",
    "DOIColumn = \"DI\"\n",
    "\n",
    "DOIList = ['10.1126/science.122.3159.108','10.1073/pnas.0507655102']\n",
    "\n",
    "if usecase[3:4]==\"1\": #use Seminal DOIs\n",
    "    sample_n=0\n",
    "elif usecase[0:3]==\"BIB\":\n",
    "    sample_n=5\n",
    "else:\n",
    "    sample_n=2\n",
    "    \n",
    "sample_random_state = 200 #used as random split by pandas"
   ]
  },
  {
   "cell_type": "code",
   "execution_count": 8,
   "metadata": {},
   "outputs": [],
   "source": [
    "#make df\n",
    "citNetFull = usecaseDIR+str(start_year)+\"COCIFull\"+str(end_year)+\".pkl\"\n",
    "metaData = usecaseDIR+str(start_year)+\"metadata\"+str(end_year)+\".pkl\"\n",
    "citNet = usecaseDIR+str(start_year)+\"COCI\"+str(end_year)+\".pkl\""
   ]
  },
  {
   "cell_type": "markdown",
   "metadata": {},
   "source": [
    "#### Convert DOI List to pickle\n",
    "This step relates to converting the seed DOIs to pickle format. This step is needed before transforming the data."
   ]
  },
  {
   "cell_type": "code",
   "execution_count": 9,
   "metadata": {},
   "outputs": [
    {
     "name": "stdout",
     "output_type": "stream",
     "text": [
      "<Client: 'tcp://127.0.0.1:57336' processes=8 threads=16>\n"
     ]
    },
    {
     "ename": "IndexError",
     "evalue": "list index out of range",
     "output_type": "error",
     "traceback": [
      "\u001b[1;31m---------------------------------------------------------------------------\u001b[0m",
      "\u001b[1;31mIndexError\u001b[0m                                Traceback (most recent call last)",
      "\u001b[1;32m<timed eval>\u001b[0m in \u001b[0;36m<module>\u001b[1;34m\u001b[0m\n",
      "\u001b[1;32mH:\\Data\\IndSchResArt-main\\Transform.py\u001b[0m in \u001b[0;36mgetDOIsFromRef\u001b[1;34m(path_to_COCI, selectCOCICols, physicalCores, virtualPerCore, refDOI, refDf)\u001b[0m\n\u001b[0;32m     93\u001b[0m     \u001b[0mprint\u001b[0m\u001b[1;33m(\u001b[0m\u001b[0mclient\u001b[0m\u001b[1;33m)\u001b[0m\u001b[1;33m\u001b[0m\u001b[1;33m\u001b[0m\u001b[0m\n\u001b[0;32m     94\u001b[0m     \u001b[1;31m# Ref: https://examples.dask.org/dataframe.html\u001b[0m\u001b[1;33m\u001b[0m\u001b[1;33m\u001b[0m\u001b[1;33m\u001b[0m\u001b[0m\n\u001b[1;32m---> 95\u001b[1;33m     \u001b[0mddf\u001b[0m \u001b[1;33m=\u001b[0m \u001b[0mdd\u001b[0m\u001b[1;33m.\u001b[0m\u001b[0mread_csv\u001b[0m\u001b[1;33m(\u001b[0m\u001b[0mpath_to_COCI\u001b[0m\u001b[1;33m,\u001b[0m \u001b[0musecols\u001b[0m\u001b[1;33m=\u001b[0m\u001b[0mselectCOCICols\u001b[0m\u001b[1;33m,\u001b[0m \u001b[0mdtype\u001b[0m\u001b[1;33m=\u001b[0m\u001b[1;33m{\u001b[0m\u001b[1;34m'citing'\u001b[0m\u001b[1;33m:\u001b[0m \u001b[1;34m'string'\u001b[0m\u001b[1;33m,\u001b[0m \u001b[1;34m'cited'\u001b[0m\u001b[1;33m:\u001b[0m \u001b[1;34m'string'\u001b[0m\u001b[1;33m,\u001b[0m \u001b[1;34m'creation'\u001b[0m\u001b[1;33m:\u001b[0m \u001b[1;34m'object'\u001b[0m\u001b[1;33m,\u001b[0m \u001b[1;34m'oci'\u001b[0m\u001b[1;33m:\u001b[0m \u001b[1;34m'string'\u001b[0m\u001b[1;33m}\u001b[0m\u001b[1;33m)\u001b[0m\u001b[1;33m\u001b[0m\u001b[1;33m\u001b[0m\u001b[0m\n\u001b[0m\u001b[0;32m     96\u001b[0m     \u001b[0mddf\u001b[0m\u001b[1;33m[\u001b[0m\u001b[1;34m'creation'\u001b[0m\u001b[1;33m]\u001b[0m \u001b[1;33m=\u001b[0m \u001b[0mdd\u001b[0m\u001b[1;33m.\u001b[0m\u001b[0mto_datetime\u001b[0m\u001b[1;33m(\u001b[0m\u001b[0mddf\u001b[0m\u001b[1;33m[\u001b[0m\u001b[1;34m'creation'\u001b[0m\u001b[1;33m]\u001b[0m\u001b[1;33m,\u001b[0m \u001b[0merrors\u001b[0m \u001b[1;33m=\u001b[0m \u001b[1;34m'coerce'\u001b[0m\u001b[1;33m)\u001b[0m\u001b[1;33m\u001b[0m\u001b[1;33m\u001b[0m\u001b[0m\n\u001b[0;32m     97\u001b[0m \u001b[1;33m\u001b[0m\u001b[0m\n",
      "\u001b[1;32mC:\\ProgramData\\Anaconda3\\lib\\site-packages\\dask\\dataframe\\io\\csv.py\u001b[0m in \u001b[0;36mread\u001b[1;34m(urlpath, blocksize, lineterminator, compression, sample, sample_rows, enforce, assume_missing, storage_options, include_path_column, **kwargs)\u001b[0m\n\u001b[0;32m    735\u001b[0m             \u001b[0mstorage_options\u001b[0m\u001b[1;33m=\u001b[0m\u001b[0mstorage_options\u001b[0m\u001b[1;33m,\u001b[0m\u001b[1;33m\u001b[0m\u001b[1;33m\u001b[0m\u001b[0m\n\u001b[0;32m    736\u001b[0m             \u001b[0minclude_path_column\u001b[0m\u001b[1;33m=\u001b[0m\u001b[0minclude_path_column\u001b[0m\u001b[1;33m,\u001b[0m\u001b[1;33m\u001b[0m\u001b[1;33m\u001b[0m\u001b[0m\n\u001b[1;32m--> 737\u001b[1;33m             \u001b[1;33m**\u001b[0m\u001b[0mkwargs\u001b[0m\u001b[1;33m,\u001b[0m\u001b[1;33m\u001b[0m\u001b[1;33m\u001b[0m\u001b[0m\n\u001b[0m\u001b[0;32m    738\u001b[0m         )\n\u001b[0;32m    739\u001b[0m \u001b[1;33m\u001b[0m\u001b[0m\n",
      "\u001b[1;32mC:\\ProgramData\\Anaconda3\\lib\\site-packages\\dask\\dataframe\\io\\csv.py\u001b[0m in \u001b[0;36mread_pandas\u001b[1;34m(reader, urlpath, blocksize, lineterminator, compression, sample, sample_rows, enforce, assume_missing, storage_options, include_path_column, **kwargs)\u001b[0m\n\u001b[0;32m    520\u001b[0m \u001b[1;33m\u001b[0m\u001b[0m\n\u001b[0;32m    521\u001b[0m         \u001b[1;31m# Infer compression from first path\u001b[0m\u001b[1;33m\u001b[0m\u001b[1;33m\u001b[0m\u001b[1;33m\u001b[0m\u001b[0m\n\u001b[1;32m--> 522\u001b[1;33m         \u001b[0mcompression\u001b[0m \u001b[1;33m=\u001b[0m \u001b[0minfer_compression\u001b[0m\u001b[1;33m(\u001b[0m\u001b[0mpaths\u001b[0m\u001b[1;33m[\u001b[0m\u001b[1;36m0\u001b[0m\u001b[1;33m]\u001b[0m\u001b[1;33m)\u001b[0m\u001b[1;33m\u001b[0m\u001b[1;33m\u001b[0m\u001b[0m\n\u001b[0m\u001b[0;32m    523\u001b[0m \u001b[1;33m\u001b[0m\u001b[0m\n\u001b[0;32m    524\u001b[0m     \u001b[1;32mif\u001b[0m \u001b[0mblocksize\u001b[0m \u001b[1;33m==\u001b[0m \u001b[1;34m\"default\"\u001b[0m\u001b[1;33m:\u001b[0m\u001b[1;33m\u001b[0m\u001b[1;33m\u001b[0m\u001b[0m\n",
      "\u001b[1;31mIndexError\u001b[0m: list index out of range"
     ]
    }
   ],
   "source": [
    "if usecase[0:3]==\"IND2\":\n",
    "    %time Transform.getDOIsFromCSV (refURL, refDf, DOIColumn)\n",
    "else:\n",
    "    %time Transform.getDOIsFromRef (path_to_COCI, COCIColsDDF, physicalCores, virtualPerCore, refDOI, refDf)"
   ]
  },
  {
   "cell_type": "code",
   "execution_count": 10,
   "metadata": {
    "scrolled": true
   },
   "outputs": [
    {
     "ename": "FileNotFoundError",
     "evalue": "[Errno 2] No such file or directory: '../DATA/Crossref/1985metadata2015.pkl'",
     "output_type": "error",
     "traceback": [
      "\u001b[1;31m---------------------------------------------------------------------------\u001b[0m",
      "\u001b[1;31mFileNotFoundError\u001b[0m                         Traceback (most recent call last)",
      "\u001b[1;32m<timed eval>\u001b[0m in \u001b[0;36m<module>\u001b[1;34m\u001b[0m\n",
      "\u001b[1;32mH:\\Data\\IndSchResArt-main\\Transform.py\u001b[0m in \u001b[0;36msplitDOIs\u001b[1;34m(refDf, DOIPkl, DOItestPkl, metaData, sample_n, sample_random_state)\u001b[0m\n\u001b[0;32m    108\u001b[0m     \u001b[0mrefDF\u001b[0m \u001b[1;33m=\u001b[0m \u001b[0mpd\u001b[0m\u001b[1;33m.\u001b[0m\u001b[0mread_pickle\u001b[0m\u001b[1;33m(\u001b[0m\u001b[0mrefDf\u001b[0m\u001b[1;33m)\u001b[0m\u001b[1;33m\u001b[0m\u001b[1;33m\u001b[0m\u001b[0m\n\u001b[0;32m    109\u001b[0m \u001b[1;33m\u001b[0m\u001b[0m\n\u001b[1;32m--> 110\u001b[1;33m     \u001b[0mDF\u001b[0m \u001b[1;33m=\u001b[0m \u001b[0mpd\u001b[0m\u001b[1;33m.\u001b[0m\u001b[0mread_pickle\u001b[0m\u001b[1;33m(\u001b[0m\u001b[0mmetaData\u001b[0m\u001b[1;33m)\u001b[0m\u001b[1;33m\u001b[0m\u001b[1;33m\u001b[0m\u001b[0m\n\u001b[0m\u001b[0;32m    111\u001b[0m \u001b[1;33m\u001b[0m\u001b[0m\n\u001b[0;32m    112\u001b[0m     \u001b[0mprint\u001b[0m \u001b[1;33m(\u001b[0m\u001b[0mlen\u001b[0m\u001b[1;33m(\u001b[0m\u001b[0mrefDF\u001b[0m\u001b[1;33m.\u001b[0m\u001b[0mcited\u001b[0m\u001b[1;33m.\u001b[0m\u001b[0munique\u001b[0m\u001b[1;33m(\u001b[0m\u001b[1;33m)\u001b[0m\u001b[1;33m)\u001b[0m\u001b[1;33m)\u001b[0m\u001b[1;33m\u001b[0m\u001b[1;33m\u001b[0m\u001b[0m\n",
      "\u001b[1;32mC:\\ProgramData\\Anaconda3\\lib\\site-packages\\pandas\\io\\pickle.py\u001b[0m in \u001b[0;36mread_pickle\u001b[1;34m(filepath_or_buffer, compression, storage_options)\u001b[0m\n\u001b[0;32m    199\u001b[0m         \u001b[0mcompression\u001b[0m\u001b[1;33m=\u001b[0m\u001b[0mcompression\u001b[0m\u001b[1;33m,\u001b[0m\u001b[1;33m\u001b[0m\u001b[1;33m\u001b[0m\u001b[0m\n\u001b[0;32m    200\u001b[0m         \u001b[0mis_text\u001b[0m\u001b[1;33m=\u001b[0m\u001b[1;32mFalse\u001b[0m\u001b[1;33m,\u001b[0m\u001b[1;33m\u001b[0m\u001b[1;33m\u001b[0m\u001b[0m\n\u001b[1;32m--> 201\u001b[1;33m         \u001b[0mstorage_options\u001b[0m\u001b[1;33m=\u001b[0m\u001b[0mstorage_options\u001b[0m\u001b[1;33m,\u001b[0m\u001b[1;33m\u001b[0m\u001b[1;33m\u001b[0m\u001b[0m\n\u001b[0m\u001b[0;32m    202\u001b[0m     ) as handles:\n\u001b[0;32m    203\u001b[0m \u001b[1;33m\u001b[0m\u001b[0m\n",
      "\u001b[1;32mC:\\ProgramData\\Anaconda3\\lib\\site-packages\\pandas\\io\\common.py\u001b[0m in \u001b[0;36mget_handle\u001b[1;34m(path_or_buf, mode, encoding, compression, memory_map, is_text, errors, storage_options)\u001b[0m\n\u001b[0;32m    709\u001b[0m         \u001b[1;32melse\u001b[0m\u001b[1;33m:\u001b[0m\u001b[1;33m\u001b[0m\u001b[1;33m\u001b[0m\u001b[0m\n\u001b[0;32m    710\u001b[0m             \u001b[1;31m# Binary mode\u001b[0m\u001b[1;33m\u001b[0m\u001b[1;33m\u001b[0m\u001b[1;33m\u001b[0m\u001b[0m\n\u001b[1;32m--> 711\u001b[1;33m             \u001b[0mhandle\u001b[0m \u001b[1;33m=\u001b[0m \u001b[0mopen\u001b[0m\u001b[1;33m(\u001b[0m\u001b[0mhandle\u001b[0m\u001b[1;33m,\u001b[0m \u001b[0mioargs\u001b[0m\u001b[1;33m.\u001b[0m\u001b[0mmode\u001b[0m\u001b[1;33m)\u001b[0m\u001b[1;33m\u001b[0m\u001b[1;33m\u001b[0m\u001b[0m\n\u001b[0m\u001b[0;32m    712\u001b[0m         \u001b[0mhandles\u001b[0m\u001b[1;33m.\u001b[0m\u001b[0mappend\u001b[0m\u001b[1;33m(\u001b[0m\u001b[0mhandle\u001b[0m\u001b[1;33m)\u001b[0m\u001b[1;33m\u001b[0m\u001b[1;33m\u001b[0m\u001b[0m\n\u001b[0;32m    713\u001b[0m \u001b[1;33m\u001b[0m\u001b[0m\n",
      "\u001b[1;31mFileNotFoundError\u001b[0m: [Errno 2] No such file or directory: '../DATA/Crossref/1985metadata2015.pkl'"
     ]
    }
   ],
   "source": [
    "%time Transform.splitDOIs (refDf, DOIPkl, DOItestPkl, metadataFull, sample_n, sample_random_state)"
   ]
  },
  {
   "cell_type": "code",
   "execution_count": null,
   "metadata": {
    "scrolled": true
   },
   "outputs": [],
   "source": [
    "if usecase[3:4]==\"1\": #use Seminal DOIs\n",
    "    %time Transform.getDOIsFromList (DOIList, DOIPkl)"
   ]
  },
  {
   "cell_type": "markdown",
   "metadata": {},
   "source": [
    "#### Filter COCI using DOIs ego network\n",
    "This step relates to iteratively adding the references and citations of DOIs and updating the DOI List. "
   ]
  },
  {
   "cell_type": "code",
   "execution_count": null,
   "metadata": {
    "scrolled": false
   },
   "outputs": [],
   "source": [
    "%time Transform.filterCOCIDump (path_to_COCI_parquet, physicalCores, virtualPerCore,citNetFull, DOIPkl, totalLevels)"
   ]
  },
  {
   "cell_type": "markdown",
   "metadata": {},
   "source": [
    "#### Filter metadata using COCI DOIs\n",
    "This step relates to taking metadata of relevant DOIs. It is needed to create the corresponding venue citation network and author citation network for the publication citation network created by the previous step."
   ]
  },
  {
   "cell_type": "code",
   "execution_count": null,
   "metadata": {},
   "outputs": [],
   "source": [
    "%time Transform.filterMetadata (metadataFull, citNetFull, metaData, citNet)"
   ]
  },
  {
   "cell_type": "code",
   "execution_count": null,
   "metadata": {},
   "outputs": [],
   "source": [
    "%time Transform.filterZeroOutDegNodesFromCOCI (metaData, citNet)"
   ]
  },
  {
   "cell_type": "markdown",
   "metadata": {},
   "source": [
    "# Loading Phase"
   ]
  },
  {
   "cell_type": "markdown",
   "metadata": {},
   "source": [
    "This phase concerns the loading of data into a network processing library using the following Equations. Scripts have been optimised to work with millions of edges with 64 GB memory. The unique list of nodes is first hashed to an increasing number representing the node labels. Edges are created between the integer labels. This phases takes a few minutes to complete.\n"
   ]
  },
  {
   "cell_type": "code",
   "execution_count": 11,
   "metadata": {},
   "outputs": [],
   "source": [
    "# Initialization for Loading\n",
    "autCitNet = usecaseDIR+\"autCOCI.pkl\"\n",
    "autCitNetLst = usecaseDIR+\"autCOCILst.pkl\"\n",
    "\n",
    "if usecase[3:4]=='2': #reduced cutoff for random DOIs\n",
    "    refCutoffPub = 1\n",
    "    refCutoffVen = 1\n",
    "    refCutoffAut = 1\n",
    "else:\n",
    "    refCutoffPub = 3\n",
    "    refCutoffVen = 5\n",
    "    refCutoffAut = 7\n",
    "\n",
    "pubF = usecaseDIR+\"Publication\"\n",
    "venF = usecaseDIR+\"Venue\"\n",
    "autF = usecaseDIR+\"Author\""
   ]
  },
  {
   "cell_type": "markdown",
   "metadata": {},
   "source": [
    "#### Generate publication citation network\n",
    "This step relates to generating the publication citation network using the COCI data. The COCI data has a few self-loops and bi-directional loops which are removed."
   ]
  },
  {
   "cell_type": "code",
   "execution_count": null,
   "metadata": {
    "scrolled": true
   },
   "outputs": [],
   "source": [
    "%time Load.generatePublicationCitationNetwork(pubF, metaData, citNet, randomFlag, refCutoffPub)"
   ]
  },
  {
   "cell_type": "markdown",
   "metadata": {},
   "source": [
    "#### Generate venue citation network\n",
    "This step relates to generating the venue citation network using the corresponding journal of the filtered publication citation network. Even though self-citations at the level of an individual or publisher are sometimes critiqued, it exists as a valid form of recognition and are kept."
   ]
  },
  {
   "cell_type": "code",
   "execution_count": null,
   "metadata": {
    "scrolled": true
   },
   "outputs": [],
   "source": [
    "%time Load.generateVenueCitationNetwork(venF, citNet, refCutoffVen)"
   ]
  },
  {
   "cell_type": "markdown",
   "metadata": {},
   "source": [
    "\n",
    "#### Author disambiguation\n",
    "One of the key challenges in the bibliometric analysis is the author name disambiguation. Crossref does not provide any disambiguation like Microsoft Academic Graph \\cite{wang_microsoft_2020}. If ORCID is available in the Crossref it is recorded along with the given name and last name of the authors. If the name has multiple ORCID associated then the ORCID is used as an identifier instead of a name. This way authors within the field are disambiguated using a simple approach, similar to \\cite{milojevic_accuracy_2013}."
   ]
  },
  {
   "cell_type": "code",
   "execution_count": null,
   "metadata": {
    "scrolled": true
   },
   "outputs": [],
   "source": [
    "%time Load.generateAuthorID (metaData, citNet, autCitNet, autCitNetLst)"
   ]
  },
  {
   "cell_type": "markdown",
   "metadata": {},
   "source": [
    "\n",
    "#### Generate author citation network\n",
    "This step relates to generating the author citation network using the corresponding authors of the filtered publication citation network. Cartesian product between the authors of citing and cited publication is made. In case of publication having a large number of authors, the list is kept up to 10 authors including the last two authors. This step is necessary to keep the network in memory."
   ]
  },
  {
   "cell_type": "code",
   "execution_count": null,
   "metadata": {},
   "outputs": [],
   "source": [
    "%time Load.generateAuthorCitationNetwork(autF, autCitNet, autCitNetLst, refCutoffAut)"
   ]
  },
  {
   "cell_type": "markdown",
   "metadata": {},
   "source": [
    "# Index"
   ]
  },
  {
   "cell_type": "markdown",
   "metadata": {},
   "source": [
    "This phase concerns with creating an index using the following Equations. Steps are to be executed sequentially. Percentile ranks are used instead of the raw score. This phases takes a few minutes to complete.\n"
   ]
  },
  {
   "cell_type": "code",
   "execution_count": 12,
   "metadata": {},
   "outputs": [],
   "source": [
    "# following files are needed in the CWD\n",
    "\n",
    "VenueGraph = usecaseDIR+\"Venue.graph\"\n",
    "VenueHash = usecaseDIR+\"Venue.hash\"\n",
    "\n",
    "PublicationGraph = usecaseDIR+\"Publication.graph\"\n",
    "PublicationHash = usecaseDIR+\"Publication.hash\"\n",
    "\n",
    "AuthorGraph = usecaseDIR+\"Author.graph\"\n",
    "AuthorHash = usecaseDIR+\"Author.hash\"\n",
    "\n",
    "# following files will be created in the CWD\n",
    "AuthorInfoCSV = usecaseDIR+\"Author.info\"\n",
    "VenueInfoCSV = usecaseDIR+\"Venue.info\"\n",
    "PublicationInfoCSV = usecaseDIR+\"Publication.info\"\n",
    "PublicationRankCSV = usecaseDIR+\"Publication.csv\"\n",
    "corrF = usecaseDIR+\"Corr.svg\"\n",
    "gridF = usecaseDIR+\"Grid.svg\"\n",
    "\n",
    "alpha = 0.85\n",
    "beta = 0.5\n",
    "gamma = 0.5\n"
   ]
  },
  {
   "cell_type": "markdown",
   "metadata": {},
   "source": [
    "\n",
    "#### Calculate author and venue score using PageRank\n",
    "This step relates to indexing the venue using the PageRank score. A node with citations from a high score node also gets a high score. This recursive mechanism guarantees that not only highly cited nodes are indexed but also nodes cited by other important nodes are also indexed. "
   ]
  },
  {
   "cell_type": "code",
   "execution_count": 13,
   "metadata": {
    "scrolled": true
   },
   "outputs": [
    {
     "name": "stdout",
     "output_type": "stream",
     "text": [
      "Venue Ranking Completed\n",
      "Wall time: 128 ms\n"
     ]
    }
   ],
   "source": [
    "%time Index.generateVenueRank(VenueHash, VenueGraph, VenueInfoCSV, alpha)"
   ]
  },
  {
   "cell_type": "code",
   "execution_count": 14,
   "metadata": {
    "scrolled": true
   },
   "outputs": [
    {
     "name": "stdout",
     "output_type": "stream",
     "text": [
      "Author Ranking Completed\n",
      "Wall time: 721 ms\n"
     ]
    }
   ],
   "source": [
    "%time Index.generateAuthorRank(AuthorHash, AuthorGraph, AuthorInfoCSV, alpha)"
   ]
  },
  {
   "cell_type": "markdown",
   "metadata": {},
   "source": [
    "\n",
    "#### Calculate publication score using author and venue score\n",
    "This step relates to indexing publications based on the two scores. First, the score of the venue where it is published and the cumulative score of which authors published it. Second, the cumulative score of venues and authors by which the publication is cited. "
   ]
  },
  {
   "cell_type": "code",
   "execution_count": 15,
   "metadata": {
    "scrolled": true
   },
   "outputs": [
    {
     "name": "stdout",
     "output_type": "stream",
     "text": [
      "Publication Ranking Completed\n",
      "Wall time: 987 ms\n"
     ]
    }
   ],
   "source": [
    "%time Index.generatePublicationRank(VenueInfoCSV, metaData, citNet, PublicationGraph, PublicationHash, AuthorInfoCSV, PublicationInfoCSV, beta, gamma, True)"
   ]
  },
  {
   "cell_type": "markdown",
   "metadata": {},
   "source": [
    "# Results"
   ]
  },
  {
   "cell_type": "code",
   "execution_count": 16,
   "metadata": {},
   "outputs": [
    {
     "name": "stdout",
     "output_type": "stream",
     "text": [
      "Wall time: 2.93 s\n"
     ]
    },
    {
     "data": {
      "text/html": [
       "<div>\n",
       "<style scoped>\n",
       "    .dataframe tbody tr th:only-of-type {\n",
       "        vertical-align: middle;\n",
       "    }\n",
       "\n",
       "    .dataframe tbody tr th {\n",
       "        vertical-align: top;\n",
       "    }\n",
       "\n",
       "    .dataframe thead th {\n",
       "        text-align: right;\n",
       "    }\n",
       "</style>\n",
       "<table border=\"1\" class=\"dataframe\">\n",
       "  <thead>\n",
       "    <tr style=\"text-align: right;\">\n",
       "      <th></th>\n",
       "      <th>DOI</th>\n",
       "      <th>Title</th>\n",
       "      <th>Venue</th>\n",
       "      <th>Year</th>\n",
       "      <th>AutScore</th>\n",
       "      <th>VenScore</th>\n",
       "      <th>PubScore</th>\n",
       "      <th>CitScore</th>\n",
       "      <th>Score</th>\n",
       "      <th>Citation</th>\n",
       "    </tr>\n",
       "  </thead>\n",
       "  <tbody>\n",
       "    <tr>\n",
       "      <th>1</th>\n",
       "      <td>10.1002/asi.21450</td>\n",
       "      <td>How fractional counting of citations affects t...</td>\n",
       "      <td>Journal of the American Society for Informatio...</td>\n",
       "      <td>2010</td>\n",
       "      <td>6.000000</td>\n",
       "      <td>5.0</td>\n",
       "      <td>1</td>\n",
       "      <td>6</td>\n",
       "      <td>3.5</td>\n",
       "      <td>6</td>\n",
       "    </tr>\n",
       "    <tr>\n",
       "      <th>2</th>\n",
       "      <td>10.1016/j.joi.2010.05.003</td>\n",
       "      <td>Normalization at the field level: Fractional c...</td>\n",
       "      <td>Journal of Informetrics</td>\n",
       "      <td>2010</td>\n",
       "      <td>5.500000</td>\n",
       "      <td>6.0</td>\n",
       "      <td>6</td>\n",
       "      <td>1</td>\n",
       "      <td>3.5</td>\n",
       "      <td>1</td>\n",
       "    </tr>\n",
       "    <tr>\n",
       "      <th>3</th>\n",
       "      <td>10.1016/j.joi.2010.08.001</td>\n",
       "      <td>Towards a new crown indicator: Some theoretica...</td>\n",
       "      <td>Journal of Informetrics</td>\n",
       "      <td>2011</td>\n",
       "      <td>5.200000</td>\n",
       "      <td>6.0</td>\n",
       "      <td>4</td>\n",
       "      <td>6</td>\n",
       "      <td>5.0</td>\n",
       "      <td>6</td>\n",
       "    </tr>\n",
       "    <tr>\n",
       "      <th>4</th>\n",
       "      <td>10.1016/j.joi.2010.10.009</td>\n",
       "      <td>Further steps towards an ideal method of measu...</td>\n",
       "      <td>Journal of Informetrics</td>\n",
       "      <td>2011</td>\n",
       "      <td>5.500000</td>\n",
       "      <td>6.0</td>\n",
       "      <td>6</td>\n",
       "      <td>4</td>\n",
       "      <td>5.0</td>\n",
       "      <td>3</td>\n",
       "    </tr>\n",
       "    <tr>\n",
       "      <th>5</th>\n",
       "      <td>10.1016/j.joi.2010.10.003</td>\n",
       "      <td>Remaining problems with the “New Crown Indicat...</td>\n",
       "      <td>Journal of Informetrics</td>\n",
       "      <td>2011</td>\n",
       "      <td>5.500000</td>\n",
       "      <td>6.0</td>\n",
       "      <td>6</td>\n",
       "      <td>3</td>\n",
       "      <td>4.5</td>\n",
       "      <td>2</td>\n",
       "    </tr>\n",
       "    <tr>\n",
       "      <th>6</th>\n",
       "      <td>10.1002/asi.21534</td>\n",
       "      <td>Turning the tables on citation analysis one mo...</td>\n",
       "      <td>Journal of the American Society for Informatio...</td>\n",
       "      <td>2011</td>\n",
       "      <td>5.500000</td>\n",
       "      <td>5.0</td>\n",
       "      <td>3</td>\n",
       "      <td>5</td>\n",
       "      <td>4.0</td>\n",
       "      <td>5</td>\n",
       "    </tr>\n",
       "    <tr>\n",
       "      <th>7</th>\n",
       "      <td>10.1002/asi.21609</td>\n",
       "      <td>Integrated impact indicators compared with imp...</td>\n",
       "      <td>Journal of the American Society for Informatio...</td>\n",
       "      <td>2011</td>\n",
       "      <td>6.000000</td>\n",
       "      <td>5.0</td>\n",
       "      <td>3</td>\n",
       "      <td>4</td>\n",
       "      <td>3.5</td>\n",
       "      <td>3</td>\n",
       "    </tr>\n",
       "    <tr>\n",
       "      <th>8</th>\n",
       "      <td>10.1002/asi.22708</td>\n",
       "      <td>The Leiden ranking 2011/2012: Data collection,...</td>\n",
       "      <td>Journal of the American Society for Informatio...</td>\n",
       "      <td>2012</td>\n",
       "      <td>4.600000</td>\n",
       "      <td>5.0</td>\n",
       "      <td>3</td>\n",
       "      <td>6</td>\n",
       "      <td>4.5</td>\n",
       "      <td>6</td>\n",
       "    </tr>\n",
       "    <tr>\n",
       "      <th>9</th>\n",
       "      <td>10.1002/asi.22714</td>\n",
       "      <td>Accounting for the uncertainty in the evaluati...</td>\n",
       "      <td>Journal of the American Society for Informatio...</td>\n",
       "      <td>2012</td>\n",
       "      <td>6.000000</td>\n",
       "      <td>5.0</td>\n",
       "      <td>5</td>\n",
       "      <td>3</td>\n",
       "      <td>4.0</td>\n",
       "      <td>1</td>\n",
       "    </tr>\n",
       "    <tr>\n",
       "      <th>10</th>\n",
       "      <td>10.1002/lary.23659</td>\n",
       "      <td>Is NIH funding predictive of greater research ...</td>\n",
       "      <td>The Laryngoscope</td>\n",
       "      <td>2012</td>\n",
       "      <td>4.800000</td>\n",
       "      <td>4.0</td>\n",
       "      <td>3</td>\n",
       "      <td>5</td>\n",
       "      <td>4.0</td>\n",
       "      <td>3</td>\n",
       "    </tr>\n",
       "    <tr>\n",
       "      <th>11</th>\n",
       "      <td>10.1016/j.joi.2011.11.006</td>\n",
       "      <td>The new Excellence Indicator in the World Repo...</td>\n",
       "      <td>Journal of Informetrics</td>\n",
       "      <td>2012</td>\n",
       "      <td>5.000000</td>\n",
       "      <td>6.0</td>\n",
       "      <td>5</td>\n",
       "      <td>3</td>\n",
       "      <td>4.0</td>\n",
       "      <td>2</td>\n",
       "    </tr>\n",
       "    <tr>\n",
       "      <th>12</th>\n",
       "      <td>10.1002/asi.22775</td>\n",
       "      <td>On the calculation of percentile-based bibliom...</td>\n",
       "      <td>Journal of the American Society for Informatio...</td>\n",
       "      <td>2012</td>\n",
       "      <td>4.500000</td>\n",
       "      <td>5.0</td>\n",
       "      <td>3</td>\n",
       "      <td>4</td>\n",
       "      <td>3.5</td>\n",
       "      <td>3</td>\n",
       "    </tr>\n",
       "    <tr>\n",
       "      <th>13</th>\n",
       "      <td>10.1002/asi.22792</td>\n",
       "      <td>How to analyze percentile citation impact data...</td>\n",
       "      <td>Journal of the American Society for Informatio...</td>\n",
       "      <td>2013</td>\n",
       "      <td>6.000000</td>\n",
       "      <td>5.0</td>\n",
       "      <td>4</td>\n",
       "      <td>4</td>\n",
       "      <td>4.0</td>\n",
       "      <td>2</td>\n",
       "    </tr>\n",
       "    <tr>\n",
       "      <th>14</th>\n",
       "      <td>10.1002/lary.23951</td>\n",
       "      <td>Comparison of scholarly impact among surgical ...</td>\n",
       "      <td>The Laryngoscope</td>\n",
       "      <td>2013</td>\n",
       "      <td>3.875000</td>\n",
       "      <td>4.0</td>\n",
       "      <td>2</td>\n",
       "      <td>6</td>\n",
       "      <td>4.0</td>\n",
       "      <td>6</td>\n",
       "    </tr>\n",
       "    <tr>\n",
       "      <th>15</th>\n",
       "      <td>10.1016/j.joi.2012.09.004</td>\n",
       "      <td>A better alternative to the h index</td>\n",
       "      <td>Journal of Informetrics</td>\n",
       "      <td>2013</td>\n",
       "      <td>6.000000</td>\n",
       "      <td>6.0</td>\n",
       "      <td>6</td>\n",
       "      <td>2</td>\n",
       "      <td>4.0</td>\n",
       "      <td>1</td>\n",
       "    </tr>\n",
       "    <tr>\n",
       "      <th>16</th>\n",
       "      <td>10.1016/j.joi.2012.10.001</td>\n",
       "      <td>The use of percentiles and percentile rank cla...</td>\n",
       "      <td>Journal of Informetrics</td>\n",
       "      <td>2013</td>\n",
       "      <td>5.666667</td>\n",
       "      <td>6.0</td>\n",
       "      <td>5</td>\n",
       "      <td>3</td>\n",
       "      <td>4.0</td>\n",
       "      <td>1</td>\n",
       "    </tr>\n",
       "    <tr>\n",
       "      <th>17</th>\n",
       "      <td>10.1016/j.joi.2012.12.003</td>\n",
       "      <td>The validation of (advanced) bibliometric indi...</td>\n",
       "      <td>Journal of Informetrics</td>\n",
       "      <td>2013</td>\n",
       "      <td>6.000000</td>\n",
       "      <td>6.0</td>\n",
       "      <td>6</td>\n",
       "      <td>2</td>\n",
       "      <td>4.0</td>\n",
       "      <td>1</td>\n",
       "    </tr>\n",
       "    <tr>\n",
       "      <th>18</th>\n",
       "      <td>10.1002/asi.23037</td>\n",
       "      <td>Do blog citations correlate with a higher numb...</td>\n",
       "      <td>Journal of the Association for Information Sci...</td>\n",
       "      <td>2014</td>\n",
       "      <td>2.333333</td>\n",
       "      <td>3.0</td>\n",
       "      <td>1</td>\n",
       "      <td>6</td>\n",
       "      <td>3.5</td>\n",
       "      <td>6</td>\n",
       "    </tr>\n",
       "    <tr>\n",
       "      <th>19</th>\n",
       "      <td>10.1016/j.joi.2013.10.011</td>\n",
       "      <td>Are the authors of highly cited articles also ...</td>\n",
       "      <td>Journal of Informetrics</td>\n",
       "      <td>2014</td>\n",
       "      <td>2.666667</td>\n",
       "      <td>6.0</td>\n",
       "      <td>4</td>\n",
       "      <td>3</td>\n",
       "      <td>3.5</td>\n",
       "      <td>1</td>\n",
       "    </tr>\n",
       "    <tr>\n",
       "      <th>20</th>\n",
       "      <td>10.1016/j.joi.2013.12.006</td>\n",
       "      <td>On the meaningful and non-meaningful use of re...</td>\n",
       "      <td>Journal of Informetrics</td>\n",
       "      <td>2014</td>\n",
       "      <td>4.000000</td>\n",
       "      <td>6.0</td>\n",
       "      <td>6</td>\n",
       "      <td>1</td>\n",
       "      <td>3.5</td>\n",
       "      <td>1</td>\n",
       "    </tr>\n",
       "    <tr>\n",
       "      <th>21</th>\n",
       "      <td>10.3171/2013.8.jns13584</td>\n",
       "      <td>Comparison of plaintiff and defendant expert w...</td>\n",
       "      <td>Journal of Neurosurgery</td>\n",
       "      <td>2014</td>\n",
       "      <td>3.800000</td>\n",
       "      <td>3.0</td>\n",
       "      <td>2</td>\n",
       "      <td>5</td>\n",
       "      <td>3.5</td>\n",
       "      <td>4</td>\n",
       "    </tr>\n",
       "    <tr>\n",
       "      <th>22</th>\n",
       "      <td>10.1002/asi.23152</td>\n",
       "      <td>From P100 to P100': A new citation-rank approach</td>\n",
       "      <td>Journal of the Association for Information Sci...</td>\n",
       "      <td>2014</td>\n",
       "      <td>5.500000</td>\n",
       "      <td>3.0</td>\n",
       "      <td>3</td>\n",
       "      <td>3</td>\n",
       "      <td>3.0</td>\n",
       "      <td>1</td>\n",
       "    </tr>\n",
       "    <tr>\n",
       "      <th>23</th>\n",
       "      <td>10.1002/asi.23408</td>\n",
       "      <td>The operationalization of “fields” as WoS subj...</td>\n",
       "      <td>Journal of the Association for Information Sci...</td>\n",
       "      <td>2015</td>\n",
       "      <td>6.000000</td>\n",
       "      <td>3.0</td>\n",
       "      <td>6</td>\n",
       "      <td>3</td>\n",
       "      <td>4.5</td>\n",
       "      <td>1</td>\n",
       "    </tr>\n",
       "    <tr>\n",
       "      <th>24</th>\n",
       "      <td>10.1002/asi.23334</td>\n",
       "      <td>Interrater reliability and convergent validity...</td>\n",
       "      <td>Journal of the Association for Information Sci...</td>\n",
       "      <td>2015</td>\n",
       "      <td>6.000000</td>\n",
       "      <td>3.0</td>\n",
       "      <td>6</td>\n",
       "      <td>2</td>\n",
       "      <td>4.0</td>\n",
       "      <td>1</td>\n",
       "    </tr>\n",
       "    <tr>\n",
       "      <th>25</th>\n",
       "      <td>10.1038/520429a</td>\n",
       "      <td>Bibliometrics: The Leiden Manifesto for resear...</td>\n",
       "      <td>Nature</td>\n",
       "      <td>2015</td>\n",
       "      <td>3.200000</td>\n",
       "      <td>2.0</td>\n",
       "      <td>2</td>\n",
       "      <td>6</td>\n",
       "      <td>4.0</td>\n",
       "      <td>6</td>\n",
       "    </tr>\n",
       "    <tr>\n",
       "      <th>26</th>\n",
       "      <td>10.1016/j.joi.2014.11.002</td>\n",
       "      <td>Should the research performance of scientists ...</td>\n",
       "      <td>Journal of Informetrics</td>\n",
       "      <td>2015</td>\n",
       "      <td>2.666667</td>\n",
       "      <td>6.0</td>\n",
       "      <td>4</td>\n",
       "      <td>2</td>\n",
       "      <td>3.0</td>\n",
       "      <td>1</td>\n",
       "    </tr>\n",
       "    <tr>\n",
       "      <th>27</th>\n",
       "      <td>10.1016/j.joi.2015.10.002</td>\n",
       "      <td>Multiplicative versus fractional counting meth...</td>\n",
       "      <td>Journal of Informetrics</td>\n",
       "      <td>2015</td>\n",
       "      <td>2.000000</td>\n",
       "      <td>6.0</td>\n",
       "      <td>3</td>\n",
       "      <td>3</td>\n",
       "      <td>3.0</td>\n",
       "      <td>1</td>\n",
       "    </tr>\n",
       "  </tbody>\n",
       "</table>\n",
       "</div>"
      ],
      "text/plain": [
       "                          DOI  \\\n",
       "1           10.1002/asi.21450   \n",
       "2   10.1016/j.joi.2010.05.003   \n",
       "3   10.1016/j.joi.2010.08.001   \n",
       "4   10.1016/j.joi.2010.10.009   \n",
       "5   10.1016/j.joi.2010.10.003   \n",
       "6           10.1002/asi.21534   \n",
       "7           10.1002/asi.21609   \n",
       "8           10.1002/asi.22708   \n",
       "9           10.1002/asi.22714   \n",
       "10         10.1002/lary.23659   \n",
       "11  10.1016/j.joi.2011.11.006   \n",
       "12          10.1002/asi.22775   \n",
       "13          10.1002/asi.22792   \n",
       "14         10.1002/lary.23951   \n",
       "15  10.1016/j.joi.2012.09.004   \n",
       "16  10.1016/j.joi.2012.10.001   \n",
       "17  10.1016/j.joi.2012.12.003   \n",
       "18          10.1002/asi.23037   \n",
       "19  10.1016/j.joi.2013.10.011   \n",
       "20  10.1016/j.joi.2013.12.006   \n",
       "21    10.3171/2013.8.jns13584   \n",
       "22          10.1002/asi.23152   \n",
       "23          10.1002/asi.23408   \n",
       "24          10.1002/asi.23334   \n",
       "25            10.1038/520429a   \n",
       "26  10.1016/j.joi.2014.11.002   \n",
       "27  10.1016/j.joi.2015.10.002   \n",
       "\n",
       "                                                Title  \\\n",
       "1   How fractional counting of citations affects t...   \n",
       "2   Normalization at the field level: Fractional c...   \n",
       "3   Towards a new crown indicator: Some theoretica...   \n",
       "4   Further steps towards an ideal method of measu...   \n",
       "5   Remaining problems with the “New Crown Indicat...   \n",
       "6   Turning the tables on citation analysis one mo...   \n",
       "7   Integrated impact indicators compared with imp...   \n",
       "8   The Leiden ranking 2011/2012: Data collection,...   \n",
       "9   Accounting for the uncertainty in the evaluati...   \n",
       "10  Is NIH funding predictive of greater research ...   \n",
       "11  The new Excellence Indicator in the World Repo...   \n",
       "12  On the calculation of percentile-based bibliom...   \n",
       "13  How to analyze percentile citation impact data...   \n",
       "14  Comparison of scholarly impact among surgical ...   \n",
       "15                A better alternative to the h index   \n",
       "16  The use of percentiles and percentile rank cla...   \n",
       "17  The validation of (advanced) bibliometric indi...   \n",
       "18  Do blog citations correlate with a higher numb...   \n",
       "19  Are the authors of highly cited articles also ...   \n",
       "20  On the meaningful and non-meaningful use of re...   \n",
       "21  Comparison of plaintiff and defendant expert w...   \n",
       "22   From P100 to P100': A new citation-rank approach   \n",
       "23  The operationalization of “fields” as WoS subj...   \n",
       "24  Interrater reliability and convergent validity...   \n",
       "25  Bibliometrics: The Leiden Manifesto for resear...   \n",
       "26  Should the research performance of scientists ...   \n",
       "27  Multiplicative versus fractional counting meth...   \n",
       "\n",
       "                                                Venue  Year  AutScore  \\\n",
       "1   Journal of the American Society for Informatio...  2010  6.000000   \n",
       "2                             Journal of Informetrics  2010  5.500000   \n",
       "3                             Journal of Informetrics  2011  5.200000   \n",
       "4                             Journal of Informetrics  2011  5.500000   \n",
       "5                             Journal of Informetrics  2011  5.500000   \n",
       "6   Journal of the American Society for Informatio...  2011  5.500000   \n",
       "7   Journal of the American Society for Informatio...  2011  6.000000   \n",
       "8   Journal of the American Society for Informatio...  2012  4.600000   \n",
       "9   Journal of the American Society for Informatio...  2012  6.000000   \n",
       "10                                   The Laryngoscope  2012  4.800000   \n",
       "11                            Journal of Informetrics  2012  5.000000   \n",
       "12  Journal of the American Society for Informatio...  2012  4.500000   \n",
       "13  Journal of the American Society for Informatio...  2013  6.000000   \n",
       "14                                   The Laryngoscope  2013  3.875000   \n",
       "15                            Journal of Informetrics  2013  6.000000   \n",
       "16                            Journal of Informetrics  2013  5.666667   \n",
       "17                            Journal of Informetrics  2013  6.000000   \n",
       "18  Journal of the Association for Information Sci...  2014  2.333333   \n",
       "19                            Journal of Informetrics  2014  2.666667   \n",
       "20                            Journal of Informetrics  2014  4.000000   \n",
       "21                            Journal of Neurosurgery  2014  3.800000   \n",
       "22  Journal of the Association for Information Sci...  2014  5.500000   \n",
       "23  Journal of the Association for Information Sci...  2015  6.000000   \n",
       "24  Journal of the Association for Information Sci...  2015  6.000000   \n",
       "25                                             Nature  2015  3.200000   \n",
       "26                            Journal of Informetrics  2015  2.666667   \n",
       "27                            Journal of Informetrics  2015  2.000000   \n",
       "\n",
       "    VenScore  PubScore  CitScore  Score  Citation  \n",
       "1        5.0         1         6    3.5         6  \n",
       "2        6.0         6         1    3.5         1  \n",
       "3        6.0         4         6    5.0         6  \n",
       "4        6.0         6         4    5.0         3  \n",
       "5        6.0         6         3    4.5         2  \n",
       "6        5.0         3         5    4.0         5  \n",
       "7        5.0         3         4    3.5         3  \n",
       "8        5.0         3         6    4.5         6  \n",
       "9        5.0         5         3    4.0         1  \n",
       "10       4.0         3         5    4.0         3  \n",
       "11       6.0         5         3    4.0         2  \n",
       "12       5.0         3         4    3.5         3  \n",
       "13       5.0         4         4    4.0         2  \n",
       "14       4.0         2         6    4.0         6  \n",
       "15       6.0         6         2    4.0         1  \n",
       "16       6.0         5         3    4.0         1  \n",
       "17       6.0         6         2    4.0         1  \n",
       "18       3.0         1         6    3.5         6  \n",
       "19       6.0         4         3    3.5         1  \n",
       "20       6.0         6         1    3.5         1  \n",
       "21       3.0         2         5    3.5         4  \n",
       "22       3.0         3         3    3.0         1  \n",
       "23       3.0         6         3    4.5         1  \n",
       "24       3.0         6         2    4.0         1  \n",
       "25       2.0         2         6    4.0         6  \n",
       "26       6.0         4         2    3.0         1  \n",
       "27       6.0         3         3    3.0         1  "
      ]
     },
     "execution_count": 16,
     "metadata": {},
     "output_type": "execute_result"
    },
    {
     "data": {
      "image/png": "[encoded data removed]",
      "text/plain": [
       "<Figure size 432x288 with 2 Axes>"
      ]
     },
     "metadata": {
      "needs_background": "light"
     },
     "output_type": "display_data"
    }
   ],
   "source": [
    "%time Index.generateQualitativeResults(PublicationInfoCSV, PublicationRankCSV, metaData, corrF, gridF)"
   ]
  },
  {
   "cell_type": "code",
   "execution_count": 17,
   "metadata": {
    "scrolled": false
   },
   "outputs": [
    {
     "name": "stdout",
     "output_type": "stream",
     "text": [
      "353 317 353 60 146 0.410958904109589\n",
      "Wall time: 222 ms\n"
     ]
    },
    {
     "data": {
      "text/plain": [
       "60"
      ]
     },
     "execution_count": 17,
     "metadata": {},
     "output_type": "execute_result"
    }
   ],
   "source": [
    "%time Index.generateComparison(metaData, PublicationInfoCSV, DOItestPkl, True)"
   ]
  },
  {
   "cell_type": "code",
   "execution_count": 18,
   "metadata": {},
   "outputs": [
    {
     "name": "stdout",
     "output_type": "stream",
     "text": [
      "min\n",
      " beta      0.0\n",
      "gamma     0.0\n",
      "val      60.0\n",
      "dtype: float64\n",
      "max\n",
      " beta      1.0\n",
      "gamma     1.0\n",
      "val      60.0\n",
      "dtype: float64\n",
      "mean\n",
      " beta      0.5\n",
      "gamma     0.5\n",
      "val      60.0\n",
      "dtype: float64\n",
      "     beta  gamma   val\n",
      "0     0.0    0.0  60.0\n",
      "1     0.0    0.1  60.0\n",
      "2     0.0    0.2  60.0\n",
      "3     0.0    0.3  60.0\n",
      "4     0.0    0.4  60.0\n",
      "..    ...    ...   ...\n",
      "116   1.0    0.6  60.0\n",
      "117   1.0    0.7  60.0\n",
      "118   1.0    0.8  60.0\n",
      "119   1.0    0.9  60.0\n",
      "120   1.0    1.0  60.0\n",
      "\n",
      "[121 rows x 3 columns]\n",
      "Wall time: 1min 52s\n"
     ]
    }
   ],
   "source": [
    "%time Index.generateQuantitativeResults (VenueInfoCSV, metaData, citNet, PublicationGraph, PublicationHash, AuthorInfoCSV, PublicationInfoCSV, DOItestPkl)"
   ]
  },
  {
   "cell_type": "code",
   "execution_count": 19,
   "metadata": {},
   "outputs": [
    {
     "name": "stdout",
     "output_type": "stream",
     "text": [
      "refs in Bibliographic Coupling Top 1000 48\n",
      "refs in Cocited list Top 1000 64\n",
      "Wall time: 4.53 s\n"
     ]
    }
   ],
   "source": [
    "%time Index.generateBaseline (citNetFull, DOIPkl, DOItestPkl)"
   ]
  },
  {
   "cell_type": "code",
   "execution_count": null,
   "metadata": {},
   "outputs": [],
   "source": []
  },
  {
   "cell_type": "code",
   "execution_count": null,
   "metadata": {},
   "outputs": [],
   "source": []
  }
 ],
 "metadata": {
  "kernelspec": {
   "display_name": "Python 3",
   "language": "python",
   "name": "python3"
  },
  "language_info": {
   "codemirror_mode": {
    "name": "ipython",
    "version": 3
   },
   "file_extension": ".py",
   "mimetype": "text/x-python",
   "name": "python",
   "nbconvert_exporter": "python",
   "pygments_lexer": "ipython3",
   "version": "3.7.3"
  }
 },
 "nbformat": 4,
 "nbformat_minor": 2
}
