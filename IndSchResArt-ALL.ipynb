{
 "cells": [
  {
   "cell_type": "markdown",
   "metadata": {},
   "source": [
    "# Indexing Scholarly Research Articles"
   ]
  },
  {
   "cell_type": "markdown",
   "metadata": {},
   "source": [
    "Pipeline for creating and analysing scientific networks. The first phase is downloading the publicly available data. The second phase is to extract the data of the provided date range. The third phase is to filter the cited and citing nodes of DOIs. The fourth phase is to load the data as scientific networks. Finally, the last phase is to index the articles.\n",
    "Publicly available dumps of both Crossref and COCI are free for use. Other than downloading the data, it is also needed to have seed DOIs. The steps are not dependent on each other but subsequent phases depend on data being placed in correct directories."
   ]
  },
  {
   "cell_type": "code",
   "execution_count": 4,
   "metadata": {},
   "outputs": [
    {
     "name": "stderr",
     "output_type": "stream",
     "text": [
      "C:\\ProgramData\\Anaconda3\\lib\\site-packages\\pandas\\compat\\_optional.py:138: UserWarning: Pandas requires version '2.7.0' or newer of 'numexpr' (version '2.6.9' currently installed).\n",
      "  warnings.warn(msg, UserWarning)\n",
      "C:\\ProgramData\\Anaconda3\\lib\\site-packages\\statsmodels\\tools\\_testing.py:19: FutureWarning: pandas.util.testing is deprecated. Use the functions in the public API at pandas.testing instead.\n",
      "  import pandas.util.testing as tm\n"
     ]
    }
   ],
   "source": [
    "%load_ext autoreload\n",
    "%autoreload 2\n",
    "\n",
    "import Extract, Transform, Load, Index"
   ]
  },
  {
   "cell_type": "markdown",
   "metadata": {},
   "source": [
    "# Input"
   ]
  },
  {
   "cell_type": "code",
   "execution_count": 11,
   "metadata": {
    "scrolled": true
   },
   "outputs": [
    {
     "name": "stdout",
     "output_type": "stream",
     "text": [
      "Please have following files created\n",
      "../DATA/\n",
      "('../', ['BIB1', 'BIB2', 'IND1', 'IND2', 'BIB1'], '/')\n",
      "../DATA/Crossref/crossref_public_data_file_2021_01/*.json.gz\n",
      "../DATA/COCI/csv/*.csv\n"
     ]
    }
   ],
   "source": [
    "#Input use case name to append \n",
    "#usecase = [\"BIB1\",\"BIB2\",\"IND1\",\"IND2\",\"BIB1\"]\n",
    "#usecase = \"BIB1\"\n",
    "\n",
    "usecase = [\"BIB1\", \"BIB2\", \"IND1\", \"IND2\" ,\"BIB1\"]\n",
    "'''\n",
    "BIB1: Bibliometric Study with seminal seed DOIs\n",
    "BIB2: Bibliometric Study with random seed DOIs\n",
    "IND1: Indicators Review with seminal seed DOIs\n",
    "IND2: Indicators Review with random seed DOIs\n",
    "COM: Community Review with random seed DOIs\n",
    "'''\n",
    "\n",
    "#Input citation cascade details / total ego levels \n",
    "totalLevels = 3\n",
    "\n",
    "# Input DASK configurations\n",
    "physicalCores = 8\n",
    "virtualPerCore = 2\n",
    "\n",
    "#Input data directory to use\n",
    "DataDir = \"../DATA/\"\n",
    "usecaseDIR= \"../\",usecase,\"/\"\n",
    "path_to_crossref = DataDir+\"Crossref/crossref_public_data_file_2021_01/*.json.gz\"\n",
    "path_to_COCI = DataDir+\"COCI/csv/*.csv\"\n",
    "\n",
    "print(\"Please have following files created\")\n",
    "print(DataDir)\n",
    "print(usecaseDIR)\n",
    "print(path_to_crossref)\n",
    "print(path_to_COCI)"
   ]
  },
  {
   "cell_type": "markdown",
   "metadata": {},
   "source": [
    "# Extraction Phase"
   ]
  },
  {
   "cell_type": "markdown",
   "metadata": {},
   "source": [
    "This phase concerns extracting the metadata for an input date range. Only the past decade is considered to give equal chance to early career researchers. It is also needed to curtail processing all the data. The date range should be selected based on the available processing and RAM. To process large files, DASK is used for out-of-core processing. It can be scaled to multi-node clusters. The steps are not dependent on each other but subsequent phases depend on relevant data being extracted that can fit in memory.\n"
   ]
  },
  {
   "cell_type": "code",
   "execution_count": 6,
   "metadata": {},
   "outputs": [],
   "source": [
    "#Date range\n",
    "if usecase[0:3]==\"BIB\":\n",
    "    start_year = 2010\n",
    "    end_year = 2020\n",
    "elif usecase[0:3]==\"IND\":\n",
    "    start_year = 1985\n",
    "    end_year = 2015\n",
    "elif usecase[0:3]==\"COM\":\n",
    "    start_year = 1970\n",
    "    end_year = 2009\n",
    "else:\n",
    "    start_year = 1985\n",
    "    end_year = 2020\n"
   ]
  },
  {
   "cell_type": "code",
   "execution_count": 7,
   "metadata": {},
   "outputs": [],
   "source": [
    "#Directory sub folders path\n",
    "path_to_crossref_parquet = DataDir+\"Crossref/\"+str(start_year)+\"parquet\"+str(end_year)+\"/\"\n",
    "metadataFull = DataDir+\"Crossref/\"+str(start_year)+\"metadata\"+str(end_year)+\".pkl\"\n",
    "citNetFull = DataDir+\"COCI/\"+str(start_year)+\"COCI\"+str(end_year)+\".pkl\"\n",
    "\n",
    "CrossrefColsDF = ['DOI','Title','Venue','Authors','Year']\n",
    "\n",
    "path_to_COCI_parquet = DataDir+\"COCI/\"+str(start_year)+\"parquet\"+str(end_year)+\"/\"\n",
    "COCIColsDDF=['citing','cited','creation', 'oci']"
   ]
  },
  {
   "cell_type": "markdown",
   "metadata": {},
   "source": [
    "#### Extract metadata for the provided date range in parquet format\n",
    "This step relates to creating a parquet binary file format for Crossref JSON. It is needed for the fast processing of subsequent steps. For a date range 2010-2020 this requires around 15 GB of space. This is a compute-heavy step and takes approximately five hours to complete. It uses a DASK Bag to read the JSON files."
   ]
  },
  {
   "cell_type": "code",
   "execution_count": 5,
   "metadata": {
    "scrolled": true
   },
   "outputs": [
    {
     "name": "stdout",
     "output_type": "stream",
     "text": [
      "<Client: 'tcp://127.0.0.1:35242' processes=8 threads=16, memory=67.95 GiB>\n"
     ]
    },
    {
     "name": "stderr",
     "output_type": "stream",
     "text": [
      "D:\\Profiles\\Users\\bilal.hayat\\AppData\\Roaming\\Python\\Python37\\site-packages\\distributed\\worker.py:3886: UserWarning: Large object of size 2.18 MiB detected in task graph: \n",
      "  [[\"('to-parquet-9998bcba7478bc135dc9482c06961d63', ... 10parquet2020']\n",
      "Consider scattering large objects ahead of time\n",
      "with client.scatter to reduce scheduler burden and \n",
      "keep data on workers\n",
      "\n",
      "    future = client.submit(func, big_data)    # bad\n",
      "\n",
      "    big_future = client.scatter(big_data)     # good\n",
      "    future = client.submit(func, big_future)  # good\n",
      "  % (format_bytes(len(b)), s)\n",
      "distributed.nanny - WARNING - Worker process still alive after 4 seconds, killing\n",
      "distributed.nanny - WARNING - Worker process still alive after 4 seconds, killing\n"
     ]
    },
    {
     "name": "stdout",
     "output_type": "stream",
     "text": [
      "Wall time: 5h 1min 43s\n"
     ]
    }
   ],
   "source": [
    "%time Extract.convertCrossrefJSONDumpToParquetDDF(path_to_crossref, path_to_crossref_parquet, physicalCores, virtualPerCore, start_year, end_year)"
   ]
  },
  {
   "cell_type": "markdown",
   "metadata": {},
   "source": [
    "#### Convert parquet to pickle format\n",
    "This step relates to extracting relevant columns of metadata to pickle format. It is a memory-intensive step and takes approximately an hour to complete. It creates a 16 GB binary file that is used by subsequent phases.\n"
   ]
  },
  {
   "cell_type": "code",
   "execution_count": 8,
   "metadata": {},
   "outputs": [
    {
     "ename": "OSError",
     "evalue": "[Errno 22] Invalid argument: '../DATA/Crossref/1985parquet2020/'",
     "output_type": "error",
     "traceback": [
      "\u001b[1;31m---------------------------------------------------------------------------\u001b[0m",
      "\u001b[1;31mOSError\u001b[0m                                   Traceback (most recent call last)",
      "\u001b[1;32m<timed eval>\u001b[0m in \u001b[0;36m<module>\u001b[1;34m\u001b[0m\n",
      "\u001b[1;32mH:\\Data\\IndSchResArt-main\\Extract.py\u001b[0m in \u001b[0;36mconvertParquetToPickleDF\u001b[1;34m(path_to_parquet, col_to_select, PklDF)\u001b[0m\n\u001b[0;32m    126\u001b[0m \u001b[1;32mdef\u001b[0m \u001b[0mconvertParquetToPickleDF\u001b[0m \u001b[1;33m(\u001b[0m\u001b[0mpath_to_parquet\u001b[0m\u001b[1;33m,\u001b[0m \u001b[0mcol_to_select\u001b[0m\u001b[1;33m,\u001b[0m \u001b[0mPklDF\u001b[0m\u001b[1;33m)\u001b[0m\u001b[1;33m:\u001b[0m\u001b[1;33m\u001b[0m\u001b[1;33m\u001b[0m\u001b[0m\n\u001b[0;32m    127\u001b[0m     \u001b[1;31m#Ref: https://pandas.pydata.org/docs/reference/api/pandas.read_parquet.html\u001b[0m\u001b[1;33m\u001b[0m\u001b[1;33m\u001b[0m\u001b[1;33m\u001b[0m\u001b[0m\n\u001b[1;32m--> 128\u001b[1;33m     \u001b[0mdf\u001b[0m \u001b[1;33m=\u001b[0m \u001b[0mpd\u001b[0m\u001b[1;33m.\u001b[0m\u001b[0mread_parquet\u001b[0m\u001b[1;33m(\u001b[0m\u001b[0mpath_to_parquet\u001b[0m\u001b[1;33m,\u001b[0m\u001b[0mcolumns\u001b[0m\u001b[1;33m=\u001b[0m\u001b[0mcol_to_select\u001b[0m\u001b[1;33m)\u001b[0m\u001b[1;33m\u001b[0m\u001b[1;33m\u001b[0m\u001b[0m\n\u001b[0m\u001b[0;32m    129\u001b[0m     \u001b[0mdf\u001b[0m\u001b[1;33m.\u001b[0m\u001b[0mto_pickle\u001b[0m\u001b[1;33m(\u001b[0m\u001b[0mPklDF\u001b[0m\u001b[1;33m)\u001b[0m\u001b[1;33m\u001b[0m\u001b[1;33m\u001b[0m\u001b[0m\n\u001b[0;32m    130\u001b[0m     \u001b[1;32mdel\u001b[0m \u001b[0mdf\u001b[0m\u001b[1;33m\u001b[0m\u001b[1;33m\u001b[0m\u001b[0m\n",
      "\u001b[1;32mC:\\ProgramData\\Anaconda3\\lib\\site-packages\\pandas\\io\\parquet.py\u001b[0m in \u001b[0;36mread_parquet\u001b[1;34m(path, engine, columns, storage_options, use_nullable_dtypes, **kwargs)\u001b[0m\n\u001b[0;32m    498\u001b[0m         \u001b[0mstorage_options\u001b[0m\u001b[1;33m=\u001b[0m\u001b[0mstorage_options\u001b[0m\u001b[1;33m,\u001b[0m\u001b[1;33m\u001b[0m\u001b[1;33m\u001b[0m\u001b[0m\n\u001b[0;32m    499\u001b[0m         \u001b[0muse_nullable_dtypes\u001b[0m\u001b[1;33m=\u001b[0m\u001b[0muse_nullable_dtypes\u001b[0m\u001b[1;33m,\u001b[0m\u001b[1;33m\u001b[0m\u001b[1;33m\u001b[0m\u001b[0m\n\u001b[1;32m--> 500\u001b[1;33m         \u001b[1;33m**\u001b[0m\u001b[0mkwargs\u001b[0m\u001b[1;33m,\u001b[0m\u001b[1;33m\u001b[0m\u001b[1;33m\u001b[0m\u001b[0m\n\u001b[0m\u001b[0;32m    501\u001b[0m     )\n",
      "\u001b[1;32mC:\\ProgramData\\Anaconda3\\lib\\site-packages\\pandas\\io\\parquet.py\u001b[0m in \u001b[0;36mread\u001b[1;34m(self, path, columns, storage_options, **kwargs)\u001b[0m\n\u001b[0;32m    338\u001b[0m             \u001b[1;31m# this branch is used for example when reading from non-fsspec URLs\u001b[0m\u001b[1;33m\u001b[0m\u001b[1;33m\u001b[0m\u001b[1;33m\u001b[0m\u001b[0m\n\u001b[0;32m    339\u001b[0m             handles = get_handle(\n\u001b[1;32m--> 340\u001b[1;33m                 \u001b[0mpath\u001b[0m\u001b[1;33m,\u001b[0m \u001b[1;34m\"rb\"\u001b[0m\u001b[1;33m,\u001b[0m \u001b[0mis_text\u001b[0m\u001b[1;33m=\u001b[0m\u001b[1;32mFalse\u001b[0m\u001b[1;33m,\u001b[0m \u001b[0mstorage_options\u001b[0m\u001b[1;33m=\u001b[0m\u001b[0mstorage_options\u001b[0m\u001b[1;33m\u001b[0m\u001b[1;33m\u001b[0m\u001b[0m\n\u001b[0m\u001b[0;32m    341\u001b[0m             )\n\u001b[0;32m    342\u001b[0m             \u001b[0mpath\u001b[0m \u001b[1;33m=\u001b[0m \u001b[0mhandles\u001b[0m\u001b[1;33m.\u001b[0m\u001b[0mhandle\u001b[0m\u001b[1;33m\u001b[0m\u001b[1;33m\u001b[0m\u001b[0m\n",
      "\u001b[1;32mC:\\ProgramData\\Anaconda3\\lib\\site-packages\\pandas\\io\\common.py\u001b[0m in \u001b[0;36mget_handle\u001b[1;34m(path_or_buf, mode, encoding, compression, memory_map, is_text, errors, storage_options)\u001b[0m\n\u001b[0;32m    709\u001b[0m         \u001b[1;32melse\u001b[0m\u001b[1;33m:\u001b[0m\u001b[1;33m\u001b[0m\u001b[1;33m\u001b[0m\u001b[0m\n\u001b[0;32m    710\u001b[0m             \u001b[1;31m# Binary mode\u001b[0m\u001b[1;33m\u001b[0m\u001b[1;33m\u001b[0m\u001b[1;33m\u001b[0m\u001b[0m\n\u001b[1;32m--> 711\u001b[1;33m             \u001b[0mhandle\u001b[0m \u001b[1;33m=\u001b[0m \u001b[0mopen\u001b[0m\u001b[1;33m(\u001b[0m\u001b[0mhandle\u001b[0m\u001b[1;33m,\u001b[0m \u001b[0mioargs\u001b[0m\u001b[1;33m.\u001b[0m\u001b[0mmode\u001b[0m\u001b[1;33m)\u001b[0m\u001b[1;33m\u001b[0m\u001b[1;33m\u001b[0m\u001b[0m\n\u001b[0m\u001b[0;32m    712\u001b[0m         \u001b[0mhandles\u001b[0m\u001b[1;33m.\u001b[0m\u001b[0mappend\u001b[0m\u001b[1;33m(\u001b[0m\u001b[0mhandle\u001b[0m\u001b[1;33m)\u001b[0m\u001b[1;33m\u001b[0m\u001b[1;33m\u001b[0m\u001b[0m\n\u001b[0;32m    713\u001b[0m \u001b[1;33m\u001b[0m\u001b[0m\n",
      "\u001b[1;31mOSError\u001b[0m: [Errno 22] Invalid argument: '../DATA/Crossref/1985parquet2020/'"
     ]
    }
   ],
   "source": [
    "%time Extract.convertParquetToPickleDF (path_to_crossref_parquet, CrossrefColsDF, metadataFull)"
   ]
  },
  {
   "cell_type": "markdown",
   "metadata": {},
   "source": [
    "#### Extract COCI for the provided date range in parquet format\n",
    "This step relates to creating a parquet binary file format for COCI. It is needed for the fast processing of subsequent steps. For a date range from the year 2010 to the year 2020, this requires around 45 GB of space. This is a compute-heavy step and takes approximately three hours to complete. It uses a DASK Dataframe to read the CSV files."
   ]
  },
  {
   "cell_type": "code",
   "execution_count": 7,
   "metadata": {},
   "outputs": [
    {
     "name": "stdout",
     "output_type": "stream",
     "text": [
      "<Client: 'tcp://127.0.0.1:36141' processes=8 threads=16>\n",
      "Wall time: 4h 28min 38s\n"
     ]
    }
   ],
   "source": [
    "%time Extract.convertCOCIDumpToParquetDDF (path_to_COCI, COCIColsDDF, physicalCores, virtualPerCore, path_to_COCI_parquet, start_year, end_year)"
   ]
  },
  {
   "cell_type": "markdown",
   "metadata": {},
   "source": [
    "# Transformation Phase"
   ]
  },
  {
   "cell_type": "markdown",
   "metadata": {},
   "source": [
    "This phase concerns transforming the data acquired to a format that is suitable for loading to the network processing library. The steps are dependent on their preceding steps. This phases takes around 2 hours to complete."
   ]
  },
  {
   "cell_type": "code",
   "execution_count": 8,
   "metadata": {},
   "outputs": [],
   "source": [
    "DOIPkl = usecaseDIR+\"DOIs.pkl\"\n",
    "DOItestPkl = usecaseDIR+\"DOItest.pkl\"\n",
    "refDf = usecaseDIR+\"refDf.pkl\""
   ]
  },
  {
   "cell_type": "code",
   "execution_count": 13,
   "metadata": {},
   "outputs": [],
   "source": [
    "#reference DOI or URL for comparisons \n",
    "if usecase[0:3]==\"usecase\":\n",
    "    refDOI = '10.1016/j.physrep.2009.11.002' #for COM\n",
    "else:\n",
    "    refDOI = '10.1016/j.joi.2016.02.007' #for IND\n",
    "\n",
    "refURL = \"https://ndownloader.figstatic.com/files/30873946\" #for BIB\n",
    "DOIColumn = \"DI\"\n",
    "\n",
    "DOIList = ['10.1126/science.122.3159.108','10.1073/pnas.0507655102']\n",
    "\n",
    "if usecase[3:4]==\"1\": #use Seminal DOIs\n",
    "    sample_n=0\n",
    "elif usecase[0:3]==\"usecase\":\n",
    "    sample_n=5\n",
    "else:\n",
    "    sample_n=2\n",
    "    \n",
    "sample_random_state = 200 #used as random split by pandas"
   ]
  },
  {
   "cell_type": "code",
   "execution_count": 10,
   "metadata": {},
   "outputs": [],
   "source": [
    "#make df\n",
    "citNetFull = usecaseDIR+str(start_year)+\"COCIFull\"+str(end_year)+\".pkl\"\n",
    "metaData = usecaseDIR+str(start_year)+\"metadata\"+str(end_year)+\".pkl\"\n",
    "citNet = usecaseDIR+str(start_year)+\"COCI\"+str(end_year)+\".pkl\""
   ]
  },
  {
   "cell_type": "markdown",
   "metadata": {},
   "source": [
    "#### Convert DOI List to pickle\n",
    "This step relates to converting the seed DOIs to pickle format. This step is needed before transforming the data."
   ]
  },
  {
   "cell_type": "code",
   "execution_count": 14,
   "metadata": {},
   "outputs": [
    {
     "ename": "NameError",
     "evalue": "name 'COCIColsDDF' is not defined",
     "output_type": "error",
     "traceback": [
      "\u001b[1;31m---------------------------------------------------------------------------\u001b[0m",
      "\u001b[1;31mNameError\u001b[0m                                 Traceback (most recent call last)",
      "\u001b[1;32m<timed eval>\u001b[0m in \u001b[0;36m<module>\u001b[1;34m\u001b[0m\n",
      "\u001b[1;31mNameError\u001b[0m: name 'COCIColsDDF' is not defined"
     ]
    }
   ],
   "source": [
    "if usecase[0:3]==\"usecase\":\n",
    "    %time Transform.getDOIsFromCSV (refURL, refDf, DOIColumn)\n",
    "else:\n",
    "    %time Transform.getDOIsFromRef (path_to_COCI, COCIColsDDF, physicalCores, virtualPerCore, refDOI, refDf)"
   ]
  },
  {
   "cell_type": "code",
   "execution_count": 12,
   "metadata": {
    "scrolled": true
   },
   "outputs": [
    {
     "name": "stdout",
     "output_type": "stream",
     "text": [
      "14657\n",
      "10018\n",
      "Wall time: 11min 25s\n"
     ]
    }
   ],
   "source": [
    "%time Transform.splitDOIs (refDf, DOIPkl, DOItestPkl, metadataFull, sample_n, sample_random_state)"
   ]
  },
  {
   "cell_type": "code",
   "execution_count": 13,
   "metadata": {
    "scrolled": true
   },
   "outputs": [
    {
     "name": "stdout",
     "output_type": "stream",
     "text": [
      "Wall time: 5 ms\n"
     ]
    }
   ],
   "source": [
    "if usecase[3:4]==\"1\": #use Seminal DOIs\n",
    "    %time Transform.getDOIsFromList (DOIList, DOIPkl)"
   ]
  },
  {
   "cell_type": "markdown",
   "metadata": {},
   "source": [
    "#### Filter COCI using DOIs ego network\n",
    "This step relates to iteratively adding the references and citations of DOIs and updating the DOI List. "
   ]
  },
  {
   "cell_type": "code",
   "execution_count": 14,
   "metadata": {
    "scrolled": false
   },
   "outputs": [
    {
     "name": "stdout",
     "output_type": "stream",
     "text": [
      "<Client: 'tcp://127.0.0.1:36524' processes=8 threads=16, memory=67.95 GiB>\n",
      "Ego Nodes Edges\n",
      "1 4649 4921\n",
      "2 100756 210430\n",
      "3 7222794 16286012\n",
      "Wall time: 1h 21min 38s\n"
     ]
    }
   ],
   "source": [
    "%time Transform.filterCOCIDump (path_to_COCI_parquet, physicalCores, virtualPerCore,citNetFull, DOIPkl, totalLevels)"
   ]
  },
  {
   "cell_type": "markdown",
   "metadata": {},
   "source": [
    "#### Filter metadata using COCI DOIs\n",
    "This step relates to taking metadata of relevant DOIs. It is needed to create the corresponding venue citation network and author citation network for the publication citation network created by the previous step."
   ]
  },
  {
   "cell_type": "code",
   "execution_count": 15,
   "metadata": {},
   "outputs": [
    {
     "name": "stdout",
     "output_type": "stream",
     "text": [
      "Wall time: 23min 12s\n"
     ]
    }
   ],
   "source": [
    "%time Transform.filterMetadata (metadataFull, citNetFull, metaData, citNet)"
   ]
  },
  {
   "cell_type": "code",
   "execution_count": 16,
   "metadata": {},
   "outputs": [
    {
     "name": "stdout",
     "output_type": "stream",
     "text": [
      "Wall time: 2min 57s\n"
     ]
    }
   ],
   "source": [
    "%time Transform.filterZeroOutDegNodesFromCOCI (metaData, citNet)"
   ]
  },
  {
   "cell_type": "markdown",
   "metadata": {},
   "source": [
    "# Loading Phase"
   ]
  },
  {
   "cell_type": "markdown",
   "metadata": {},
   "source": [
    "This phase concerns the loading of data into a network processing library using the following Equations. Scripts have been optimised to work with millions of edges with 64 GB memory. The unique list of nodes is first hashed to an increasing number representing the node labels. Edges are created between the integer labels. This phases takes a few minutes to complete.\n"
   ]
  },
  {
   "cell_type": "code",
   "execution_count": 17,
   "metadata": {},
   "outputs": [],
   "source": [
    "# Initialization for Loading\n",
    "autCitNet = usecaseDIR+\"autCOCI.pkl\"\n",
    "autCitNetLst = usecaseDIR+\"autCOCILst.pkl\"\n",
    "\n",
    "if usecase[3:4]=='2': #reduced cutoff for random DOIs\n",
    "    refCutoffPub = 1\n",
    "    refCutoffVen = 1\n",
    "    refCutoffAut = 1\n",
    "else:\n",
    "    refCutoffPub = 3\n",
    "    refCutoffVen = 5\n",
    "    refCutoffAut = 7\n",
    "\n",
    "pubF = usecaseDIR+\"Publication\"\n",
    "venF = usecaseDIR+\"Venue\"\n",
    "autF = usecaseDIR+\"Author\""
   ]
  },
  {
   "cell_type": "markdown",
   "metadata": {},
   "source": [
    "#### Generate publication citation network\n",
    "This step relates to generating the publication citation network using the COCI data. The COCI data has a few self-loops and bi-directional loops which are removed."
   ]
  },
  {
   "cell_type": "code",
   "execution_count": 18,
   "metadata": {
    "scrolled": true
   },
   "outputs": [
    {
     "name": "stdout",
     "output_type": "stream",
     "text": [
      "Number of Nodes: 406247, Number of Edges: 654453\n",
      "Graph created for ../BIB1/Publication \n",
      "Number of Nodes: 5509, Number of Edges: 13766\n",
      "Wall time: 24.9 s\n"
     ]
    }
   ],
   "source": [
    "%time Load.generatePublicationCitationNetwork(pubF, metaData, citNet, randomFlag, refCutoffPub)"
   ]
  },
  {
   "cell_type": "markdown",
   "metadata": {},
   "source": [
    "#### Generate venue citation network\n",
    "This step relates to generating the venue citation network using the corresponding journal of the filtered publication citation network. Even though self-citations at the level of an individual or publisher are sometimes critiqued, it exists as a valid form of recognition and are kept."
   ]
  },
  {
   "cell_type": "code",
   "execution_count": 19,
   "metadata": {
    "scrolled": true
   },
   "outputs": [
    {
     "name": "stdout",
     "output_type": "stream",
     "text": [
      "Number of Nodes: 1543, Number of Edges: 13772\n",
      "Graph created for ../BIB1/Venue \n",
      "Number of Nodes: 404, Number of Edges: 10243\n",
      "Wall time: 669 ms\n"
     ]
    }
   ],
   "source": [
    "%time Load.generateVenueCitationNetwork(venF, citNet, refCutoffVen)"
   ]
  },
  {
   "cell_type": "markdown",
   "metadata": {},
   "source": [
    "\n",
    "#### Author disambiguation\n",
    "One of the key challenges in the bibliometric analysis is the author name disambiguation. Crossref does not provide any disambiguation like Microsoft Academic Graph \\cite{wang_microsoft_2020}. If ORCID is available in the Crossref it is recorded along with the given name and last name of the authors. If the name has multiple ORCID associated then the ORCID is used as an identifier instead of a name. This way authors within the field are disambiguated using a simple approach, similar to \\cite{milojevic_accuracy_2013}."
   ]
  },
  {
   "cell_type": "code",
   "execution_count": 20,
   "metadata": {
    "scrolled": true
   },
   "outputs": [
    {
     "name": "stdout",
     "output_type": "stream",
     "text": [
      "Wall time: 1min 41s\n"
     ]
    }
   ],
   "source": [
    "%time Load.generateAuthorID (metaData, citNet, autCitNet, autCitNetLst)"
   ]
  },
  {
   "cell_type": "markdown",
   "metadata": {},
   "source": [
    "\n",
    "#### Generate author citation network\n",
    "This step relates to generating the author citation network using the corresponding authors of the filtered publication citation network. Cartesian product between the authors of citing and cited publication is made. In case of publication having a large number of authors, the list is kept up to 10 authors including the last two authors. This step is necessary to keep the network in memory."
   ]
  },
  {
   "cell_type": "code",
   "execution_count": 21,
   "metadata": {},
   "outputs": [
    {
     "name": "stdout",
     "output_type": "stream",
     "text": [
      "Number of Nodes: 9084, Number of Edges: 141947\n",
      "Graph created for ../BIB1/Author \n",
      "Number of Nodes: 4120, Number of Edges: 85719\n",
      "Wall time: 23.9 s\n"
     ]
    }
   ],
   "source": [
    "%time Load.generateAuthorCitationNetwork(autF, autCitNet, autCitNetLst, refCutoffAut)"
   ]
  },
  {
   "cell_type": "markdown",
   "metadata": {},
   "source": [
    "# Index"
   ]
  },
  {
   "cell_type": "markdown",
   "metadata": {},
   "source": [
    "This phase concerns with creating an index using the following Equations. Steps are to be executed sequentially. Percentile ranks are used instead of the raw score. This phases takes a few minutes to complete.\n"
   ]
  },
  {
   "cell_type": "code",
   "execution_count": 15,
   "metadata": {},
   "outputs": [
    {
     "name": "stdout",
     "output_type": "stream",
     "text": [
      "(('../', ['BIB1', 'BIB2', 'IND1', 'IND2', 'BIB1'], '/'), 'Venue.graph')\n",
      "(('../', ['BIB1', 'BIB2', 'IND1', 'IND2', 'BIB1'], '/'), 'Publication.graph')\n",
      "(('../', ['BIB1', 'BIB2', 'IND1', 'IND2', 'BIB1'], '/'), 'Venue.graph')\n",
      "(('../', ['BIB1', 'BIB2', 'IND1', 'IND2', 'BIB1'], '/'), 'Publication.graph')\n",
      "(('../', ['BIB1', 'BIB2', 'IND1', 'IND2', 'BIB1'], '/'), 'Venue.graph')\n",
      "(('../', ['BIB1', 'BIB2', 'IND1', 'IND2', 'BIB1'], '/'), 'Publication.graph')\n",
      "(('../', ['BIB1', 'BIB2', 'IND1', 'IND2', 'BIB1'], '/'), 'Venue.graph')\n",
      "(('../', ['BIB1', 'BIB2', 'IND1', 'IND2', 'BIB1'], '/'), 'Publication.graph')\n",
      "(('../', ['BIB1', 'BIB2', 'IND1', 'IND2', 'BIB1'], '/'), 'Venue.graph')\n",
      "(('../', ['BIB1', 'BIB2', 'IND1', 'IND2', 'BIB1'], '/'), 'Publication.graph')\n"
     ]
    }
   ],
   "source": [
    "# following files are needed in the CWD\n",
    "\n",
    "for i in range(len(usecase)):\n",
    "    VenueGraph = usecaseDIR,\"Venue.graph\"\n",
    "    VenueHash = usecaseDIR,\"Venue.hash\"\n",
    "\n",
    "    PublicationGraph = usecaseDIR,\"Publication.graph\"\n",
    "    PublicationHash = usecaseDIR,\"Publication.hash\"\n",
    "\n",
    "    AuthorGraph = usecaseDIR,\"Author.graph\"\n",
    "    AuthorHash = usecaseDIR,\"Author.hash\"\n",
    "\n",
    "    # following files will be created in the CWD\n",
    "    AuthorInfoCSV = usecaseDIR,\"Author.info\"\n",
    "    VenueInfoCSV = usecaseDIR,\"Venue.info\"\n",
    "    PublicationInfoCSV = usecaseDIR,\"Publication.info\"\n",
    "    PublicationRankCSV = usecaseDIR,\"Publication.csv\"\n",
    "    corrF = usecaseDIR,\"Corr.svg\"\n",
    "    gridF = usecaseDIR,\"Grid.svg\"\n",
    "\n",
    "    print(VenueGraph)\n",
    "    print(PublicationGraph) \n",
    "\n",
    "\n",
    "alpha = 0.85\n",
    "beta = 0.5\n",
    "gamma = 0.5\n",
    "\n"
   ]
  },
  {
   "cell_type": "markdown",
   "metadata": {},
   "source": [
    "\n",
    "#### Calculate author and venue score using PageRank\n",
    "This step relates to indexing the venue using the PageRank score. A node with citations from a high score node also gets a high score. This recursive mechanism guarantees that not only highly cited nodes are indexed but also nodes cited by other important nodes are also indexed. "
   ]
  },
  {
   "cell_type": "code",
   "execution_count": 3,
   "metadata": {
    "scrolled": true
   },
   "outputs": [
    {
     "ename": "NameError",
     "evalue": "name 'Index' is not defined",
     "output_type": "error",
     "traceback": [
      "\u001b[1;31m---------------------------------------------------------------------------\u001b[0m",
      "\u001b[1;31mNameError\u001b[0m                                 Traceback (most recent call last)",
      "\u001b[1;32m<timed eval>\u001b[0m in \u001b[0;36m<module>\u001b[1;34m\u001b[0m\n",
      "\u001b[1;31mNameError\u001b[0m: name 'Index' is not defined"
     ]
    }
   ],
   "source": [
    "%time Index.generateVenueRank(VenueHash, VenueGraph, VenueInfoCSV, alpha)"
   ]
  },
  {
   "cell_type": "code",
   "execution_count": 17,
   "metadata": {
    "scrolled": true
   },
   "outputs": [
    {
     "ename": "NameError",
     "evalue": "name 'Index' is not defined",
     "output_type": "error",
     "traceback": [
      "\u001b[1;31m---------------------------------------------------------------------------\u001b[0m",
      "\u001b[1;31mNameError\u001b[0m                                 Traceback (most recent call last)",
      "\u001b[1;32m<timed eval>\u001b[0m in \u001b[0;36m<module>\u001b[1;34m\u001b[0m\n",
      "\u001b[1;31mNameError\u001b[0m: name 'Index' is not defined"
     ]
    }
   ],
   "source": [
    "%time Index.generateAuthorRank(AuthorHash, AuthorGraph, AuthorInfoCSV, alpha)"
   ]
  },
  {
   "cell_type": "markdown",
   "metadata": {},
   "source": [
    "\n",
    "#### Calculate publication score using author and venue score\n",
    "This step relates to indexing publications based on the two scores. First, the score of the venue where it is published and the cumulative score of which authors published it. Second, the cumulative score of venues and authors by which the publication is cited. "
   ]
  },
  {
   "cell_type": "code",
   "execution_count": 25,
   "metadata": {
    "scrolled": true
   },
   "outputs": [
    {
     "name": "stdout",
     "output_type": "stream",
     "text": [
      "Publication Ranking Completed\n",
      "Wall time: 11 s\n"
     ]
    }
   ],
   "source": [
    "%time Index.generatePublicationRank(VenueInfoCSV, metaData, citNet, PublicationGraph, PublicationHash, AuthorInfoCSV, PublicationInfoCSV, beta, gamma, True)"
   ]
  },
  {
   "cell_type": "markdown",
   "metadata": {},
   "source": [
    "# Results"
   ]
  },
  {
   "cell_type": "code",
   "execution_count": 26,
   "metadata": {},
   "outputs": [
    {
     "name": "stdout",
     "output_type": "stream",
     "text": [
      "Wall time: 9.63 s\n"
     ]
    },
    {
     "data": {
      "text/html": [
       "<div>\n",
       "<style scoped>\n",
       "    .dataframe tbody tr th:only-of-type {\n",
       "        vertical-align: middle;\n",
       "    }\n",
       "\n",
       "    .dataframe tbody tr th {\n",
       "        vertical-align: top;\n",
       "    }\n",
       "\n",
       "    .dataframe thead th {\n",
       "        text-align: right;\n",
       "    }\n",
       "</style>\n",
       "<table border=\"1\" class=\"dataframe\">\n",
       "  <thead>\n",
       "    <tr style=\"text-align: right;\">\n",
       "      <th></th>\n",
       "      <th>DOI</th>\n",
       "      <th>Title</th>\n",
       "      <th>Venue</th>\n",
       "      <th>Year</th>\n",
       "      <th>AutScore</th>\n",
       "      <th>VenScore</th>\n",
       "      <th>PubScore</th>\n",
       "      <th>CitScore</th>\n",
       "      <th>Score</th>\n",
       "      <th>Citation</th>\n",
       "    </tr>\n",
       "  </thead>\n",
       "  <tbody>\n",
       "    <tr>\n",
       "      <th>1</th>\n",
       "      <td>10.1016/j.joi.2013.10.002</td>\n",
       "      <td>The comparison of classification-system-based ...</td>\n",
       "      <td>Journal of Informetrics</td>\n",
       "      <td>2014</td>\n",
       "      <td>6.000000</td>\n",
       "      <td>6.0</td>\n",
       "      <td>6</td>\n",
       "      <td>2</td>\n",
       "      <td>4.0</td>\n",
       "      <td>2</td>\n",
       "    </tr>\n",
       "    <tr>\n",
       "      <th>2</th>\n",
       "      <td>10.1016/j.joi.2014.09.006</td>\n",
       "      <td>The skewness of scientific productivity</td>\n",
       "      <td>Journal of Informetrics</td>\n",
       "      <td>2014</td>\n",
       "      <td>5.500000</td>\n",
       "      <td>6.0</td>\n",
       "      <td>2</td>\n",
       "      <td>6</td>\n",
       "      <td>4.0</td>\n",
       "      <td>6</td>\n",
       "    </tr>\n",
       "    <tr>\n",
       "      <th>3</th>\n",
       "      <td>10.1002/asi.23219</td>\n",
       "      <td>Differences in citation impact across countries</td>\n",
       "      <td>Journal of the Association for Information Sci...</td>\n",
       "      <td>2014</td>\n",
       "      <td>4.666667</td>\n",
       "      <td>5.0</td>\n",
       "      <td>1</td>\n",
       "      <td>3</td>\n",
       "      <td>2.0</td>\n",
       "      <td>3</td>\n",
       "    </tr>\n",
       "    <tr>\n",
       "      <th>4</th>\n",
       "      <td>10.1007/s11192-014-1449-6</td>\n",
       "      <td>Within- and between-department variability in ...</td>\n",
       "      <td>Scientometrics</td>\n",
       "      <td>2014</td>\n",
       "      <td>5.500000</td>\n",
       "      <td>6.0</td>\n",
       "      <td>2</td>\n",
       "      <td>1</td>\n",
       "      <td>1.5</td>\n",
       "      <td>1</td>\n",
       "    </tr>\n",
       "    <tr>\n",
       "      <th>5</th>\n",
       "      <td>10.1002/asi.23243</td>\n",
       "      <td>Journal maps, interactive overlays, and the me...</td>\n",
       "      <td>Journal of the Association for Information Sci...</td>\n",
       "      <td>2014</td>\n",
       "      <td>5.000000</td>\n",
       "      <td>5.0</td>\n",
       "      <td>1</td>\n",
       "      <td>1</td>\n",
       "      <td>1.0</td>\n",
       "      <td>1</td>\n",
       "    </tr>\n",
       "    <tr>\n",
       "      <th>6</th>\n",
       "      <td>10.1016/j.joi.2014.11.010</td>\n",
       "      <td>Field-normalized citation impact indicators us...</td>\n",
       "      <td>Journal of Informetrics</td>\n",
       "      <td>2015</td>\n",
       "      <td>6.000000</td>\n",
       "      <td>6.0</td>\n",
       "      <td>6</td>\n",
       "      <td>6</td>\n",
       "      <td>6.0</td>\n",
       "      <td>4</td>\n",
       "    </tr>\n",
       "    <tr>\n",
       "      <th>7</th>\n",
       "      <td>10.1016/j.ejor.2015.04.002</td>\n",
       "      <td>A review of theory and practice in scientometrics</td>\n",
       "      <td>European Journal of Operational Research</td>\n",
       "      <td>2015</td>\n",
       "      <td>5.000000</td>\n",
       "      <td>5.0</td>\n",
       "      <td>2</td>\n",
       "      <td>4</td>\n",
       "      <td>3.0</td>\n",
       "      <td>6</td>\n",
       "    </tr>\n",
       "    <tr>\n",
       "      <th>8</th>\n",
       "      <td>10.1016/j.joi.2015.01.006</td>\n",
       "      <td>Methods for the generation of normalized citat...</td>\n",
       "      <td>Journal of Informetrics</td>\n",
       "      <td>2015</td>\n",
       "      <td>5.000000</td>\n",
       "      <td>6.0</td>\n",
       "      <td>3</td>\n",
       "      <td>3</td>\n",
       "      <td>3.0</td>\n",
       "      <td>3</td>\n",
       "    </tr>\n",
       "    <tr>\n",
       "      <th>9</th>\n",
       "      <td>10.1016/j.joi.2015.09.005</td>\n",
       "      <td>More precise methods for national research cit...</td>\n",
       "      <td>Journal of Informetrics</td>\n",
       "      <td>2015</td>\n",
       "      <td>5.000000</td>\n",
       "      <td>6.0</td>\n",
       "      <td>3</td>\n",
       "      <td>3</td>\n",
       "      <td>3.0</td>\n",
       "      <td>2</td>\n",
       "    </tr>\n",
       "    <tr>\n",
       "      <th>10</th>\n",
       "      <td>10.1103/physreve.92.032805</td>\n",
       "      <td>Measuring and modeling correlations in multipl...</td>\n",
       "      <td>Physical Review E</td>\n",
       "      <td>2015</td>\n",
       "      <td>6.000000</td>\n",
       "      <td>5.0</td>\n",
       "      <td>3</td>\n",
       "      <td>3</td>\n",
       "      <td>3.0</td>\n",
       "      <td>3</td>\n",
       "    </tr>\n",
       "    <tr>\n",
       "      <th>11</th>\n",
       "      <td>10.1016/j.joi.2016.02.007</td>\n",
       "      <td>A review of the literature on citation impact ...</td>\n",
       "      <td>Journal of Informetrics</td>\n",
       "      <td>2016</td>\n",
       "      <td>6.000000</td>\n",
       "      <td>6.0</td>\n",
       "      <td>6</td>\n",
       "      <td>6</td>\n",
       "      <td>6.0</td>\n",
       "      <td>5</td>\n",
       "    </tr>\n",
       "    <tr>\n",
       "      <th>12</th>\n",
       "      <td>10.1016/j.physrep.2016.06.007</td>\n",
       "      <td>Vital nodes identification in complex networks</td>\n",
       "      <td>Physics Reports</td>\n",
       "      <td>2016</td>\n",
       "      <td>5.500000</td>\n",
       "      <td>6.0</td>\n",
       "      <td>5</td>\n",
       "      <td>5</td>\n",
       "      <td>5.0</td>\n",
       "      <td>6</td>\n",
       "    </tr>\n",
       "    <tr>\n",
       "      <th>13</th>\n",
       "      <td>10.1007/s11192-016-1893-6</td>\n",
       "      <td>How to normalize Twitter counts? A first attem...</td>\n",
       "      <td>Scientometrics</td>\n",
       "      <td>2016</td>\n",
       "      <td>6.000000</td>\n",
       "      <td>6.0</td>\n",
       "      <td>6</td>\n",
       "      <td>3</td>\n",
       "      <td>4.5</td>\n",
       "      <td>2</td>\n",
       "    </tr>\n",
       "    <tr>\n",
       "      <th>14</th>\n",
       "      <td>10.1016/j.joi.2015.11.003</td>\n",
       "      <td>Normalization of Mendeley reader counts for im...</td>\n",
       "      <td>Journal of Informetrics</td>\n",
       "      <td>2016</td>\n",
       "      <td>6.000000</td>\n",
       "      <td>6.0</td>\n",
       "      <td>6</td>\n",
       "      <td>3</td>\n",
       "      <td>4.5</td>\n",
       "      <td>2</td>\n",
       "    </tr>\n",
       "    <tr>\n",
       "      <th>15</th>\n",
       "      <td>10.1016/j.joi.2015.12.001</td>\n",
       "      <td>The precision of the arithmetic mean, geometri...</td>\n",
       "      <td>Journal of Informetrics</td>\n",
       "      <td>2016</td>\n",
       "      <td>6.000000</td>\n",
       "      <td>6.0</td>\n",
       "      <td>6</td>\n",
       "      <td>3</td>\n",
       "      <td>4.5</td>\n",
       "      <td>2</td>\n",
       "    </tr>\n",
       "    <tr>\n",
       "      <th>16</th>\n",
       "      <td>10.1016/j.joi.2016.12.002</td>\n",
       "      <td>Three practical field normalised alternative i...</td>\n",
       "      <td>Journal of Informetrics</td>\n",
       "      <td>2017</td>\n",
       "      <td>6.000000</td>\n",
       "      <td>6.0</td>\n",
       "      <td>6</td>\n",
       "      <td>5</td>\n",
       "      <td>5.5</td>\n",
       "      <td>3</td>\n",
       "    </tr>\n",
       "    <tr>\n",
       "      <th>17</th>\n",
       "      <td>10.1016/j.joi.2017.10.006</td>\n",
       "      <td>Microsoft Academic: A multidisciplinary compar...</td>\n",
       "      <td>Journal of Informetrics</td>\n",
       "      <td>2017</td>\n",
       "      <td>6.000000</td>\n",
       "      <td>6.0</td>\n",
       "      <td>6</td>\n",
       "      <td>3</td>\n",
       "      <td>4.5</td>\n",
       "      <td>1</td>\n",
       "    </tr>\n",
       "    <tr>\n",
       "      <th>18</th>\n",
       "      <td>10.1016/j.physrep.2017.05.001</td>\n",
       "      <td>Ranking in evolving complex networks</td>\n",
       "      <td>Physics Reports</td>\n",
       "      <td>2017</td>\n",
       "      <td>4.800000</td>\n",
       "      <td>6.0</td>\n",
       "      <td>4</td>\n",
       "      <td>5</td>\n",
       "      <td>4.5</td>\n",
       "      <td>3</td>\n",
       "    </tr>\n",
       "    <tr>\n",
       "      <th>19</th>\n",
       "      <td>10.3233/jifs-161640</td>\n",
       "      <td>Fuzzy decision making: A bibliometric-based re...</td>\n",
       "      <td>Journal of Intelligent \\&amp; Fuzzy Systems</td>\n",
       "      <td>2017</td>\n",
       "      <td>6.000000</td>\n",
       "      <td>4.0</td>\n",
       "      <td>3</td>\n",
       "      <td>6</td>\n",
       "      <td>4.5</td>\n",
       "      <td>5</td>\n",
       "    </tr>\n",
       "    <tr>\n",
       "      <th>20</th>\n",
       "      <td>10.1002/asi.23833</td>\n",
       "      <td>Scholarly use of social media and altmetrics: ...</td>\n",
       "      <td>Journal of the Association for Information Sci...</td>\n",
       "      <td>2017</td>\n",
       "      <td>4.333333</td>\n",
       "      <td>5.0</td>\n",
       "      <td>2</td>\n",
       "      <td>6</td>\n",
       "      <td>4.0</td>\n",
       "      <td>4</td>\n",
       "    </tr>\n",
       "    <tr>\n",
       "      <th>21</th>\n",
       "      <td>10.1007/s11192-018-2715-9</td>\n",
       "      <td>Early Mendeley readers correlate with later ci...</td>\n",
       "      <td>Scientometrics</td>\n",
       "      <td>2018</td>\n",
       "      <td>5.000000</td>\n",
       "      <td>6.0</td>\n",
       "      <td>5</td>\n",
       "      <td>5</td>\n",
       "      <td>5.0</td>\n",
       "      <td>2</td>\n",
       "    </tr>\n",
       "    <tr>\n",
       "      <th>22</th>\n",
       "      <td>10.1016/j.joi.2017.11.001</td>\n",
       "      <td>Microsoft Academic automatic document searches...</td>\n",
       "      <td>Journal of Informetrics</td>\n",
       "      <td>2018</td>\n",
       "      <td>6.000000</td>\n",
       "      <td>6.0</td>\n",
       "      <td>6</td>\n",
       "      <td>3</td>\n",
       "      <td>4.5</td>\n",
       "      <td>1</td>\n",
       "    </tr>\n",
       "    <tr>\n",
       "      <th>23</th>\n",
       "      <td>10.1016/j.joi.2018.01.008</td>\n",
       "      <td>Could scientists use Altmetric.com scores to p...</td>\n",
       "      <td>Journal of Informetrics</td>\n",
       "      <td>2018</td>\n",
       "      <td>6.000000</td>\n",
       "      <td>6.0</td>\n",
       "      <td>6</td>\n",
       "      <td>3</td>\n",
       "      <td>4.5</td>\n",
       "      <td>1</td>\n",
       "    </tr>\n",
       "    <tr>\n",
       "      <th>24</th>\n",
       "      <td>10.1016/j.joi.2018.01.010</td>\n",
       "      <td>Normalization of zero-inflated data: An empiri...</td>\n",
       "      <td>Journal of Informetrics</td>\n",
       "      <td>2018</td>\n",
       "      <td>6.000000</td>\n",
       "      <td>6.0</td>\n",
       "      <td>6</td>\n",
       "      <td>3</td>\n",
       "      <td>4.5</td>\n",
       "      <td>1</td>\n",
       "    </tr>\n",
       "    <tr>\n",
       "      <th>25</th>\n",
       "      <td>10.1038/s41562-018-0399-z</td>\n",
       "      <td>Evaluating the replicability of social science...</td>\n",
       "      <td>Nature Human Behaviour</td>\n",
       "      <td>2018</td>\n",
       "      <td>5.000000</td>\n",
       "      <td>4.0</td>\n",
       "      <td>3</td>\n",
       "      <td>6</td>\n",
       "      <td>4.5</td>\n",
       "      <td>5</td>\n",
       "    </tr>\n",
       "    <tr>\n",
       "      <th>26</th>\n",
       "      <td>10.1016/j.joi.2019.01.008</td>\n",
       "      <td>Do altmetrics assess societal impact in a comp...</td>\n",
       "      <td>Journal of Informetrics</td>\n",
       "      <td>2019</td>\n",
       "      <td>5.000000</td>\n",
       "      <td>6.0</td>\n",
       "      <td>5</td>\n",
       "      <td>6</td>\n",
       "      <td>5.5</td>\n",
       "      <td>3</td>\n",
       "    </tr>\n",
       "    <tr>\n",
       "      <th>27</th>\n",
       "      <td>10.1016/j.physrep.2019.07.001</td>\n",
       "      <td>Coevolution spreading in complex networks</td>\n",
       "      <td>Physics Reports</td>\n",
       "      <td>2019</td>\n",
       "      <td>4.000000</td>\n",
       "      <td>6.0</td>\n",
       "      <td>4</td>\n",
       "      <td>6</td>\n",
       "      <td>5.0</td>\n",
       "      <td>3</td>\n",
       "    </tr>\n",
       "    <tr>\n",
       "      <th>28</th>\n",
       "      <td>10.1016/j.joi.2018.11.003</td>\n",
       "      <td>Predicting publication long-term impact throug...</td>\n",
       "      <td>Journal of Informetrics</td>\n",
       "      <td>2019</td>\n",
       "      <td>3.000000</td>\n",
       "      <td>6.0</td>\n",
       "      <td>4</td>\n",
       "      <td>5</td>\n",
       "      <td>4.5</td>\n",
       "      <td>2</td>\n",
       "    </tr>\n",
       "    <tr>\n",
       "      <th>29</th>\n",
       "      <td>10.1063/1.5087462</td>\n",
       "      <td>A guideline to solar forecasting research prac...</td>\n",
       "      <td>Journal of Renewable and Sustainable Energy</td>\n",
       "      <td>2019</td>\n",
       "      <td>5.000000</td>\n",
       "      <td>3.0</td>\n",
       "      <td>3</td>\n",
       "      <td>6</td>\n",
       "      <td>4.5</td>\n",
       "      <td>3</td>\n",
       "    </tr>\n",
       "    <tr>\n",
       "      <th>30</th>\n",
       "      <td>10.1007/s11192-019-03238-1</td>\n",
       "      <td>The data source of this study is Web of Scienc...</td>\n",
       "      <td>Scientometrics</td>\n",
       "      <td>2019</td>\n",
       "      <td>4.000000</td>\n",
       "      <td>6.0</td>\n",
       "      <td>4</td>\n",
       "      <td>4</td>\n",
       "      <td>4.0</td>\n",
       "      <td>1</td>\n",
       "    </tr>\n",
       "    <tr>\n",
       "      <th>31</th>\n",
       "      <td>10.1007/s11192-020-03387-8</td>\n",
       "      <td>A tale of two databases: the use of Web of Sci...</td>\n",
       "      <td>Scientometrics</td>\n",
       "      <td>2020</td>\n",
       "      <td>3.500000</td>\n",
       "      <td>6.0</td>\n",
       "      <td>5</td>\n",
       "      <td>6</td>\n",
       "      <td>5.5</td>\n",
       "      <td>3</td>\n",
       "    </tr>\n",
       "    <tr>\n",
       "      <th>32</th>\n",
       "      <td>10.1007/s11192-020-03362-3</td>\n",
       "      <td>Funding information in Web of Science: an upda...</td>\n",
       "      <td>Scientometrics</td>\n",
       "      <td>2020</td>\n",
       "      <td>3.000000</td>\n",
       "      <td>6.0</td>\n",
       "      <td>5</td>\n",
       "      <td>5</td>\n",
       "      <td>5.0</td>\n",
       "      <td>1</td>\n",
       "    </tr>\n",
       "    <tr>\n",
       "      <th>33</th>\n",
       "      <td>10.1007/s11192-020-03512-7</td>\n",
       "      <td>An evaluation of percentile measures of citati...</td>\n",
       "      <td>Scientometrics</td>\n",
       "      <td>2020</td>\n",
       "      <td>4.000000</td>\n",
       "      <td>6.0</td>\n",
       "      <td>5</td>\n",
       "      <td>3</td>\n",
       "      <td>4.0</td>\n",
       "      <td>1</td>\n",
       "    </tr>\n",
       "    <tr>\n",
       "      <th>34</th>\n",
       "      <td>10.1063/1.5134731</td>\n",
       "      <td>Ensemble model output statistics as a probabil...</td>\n",
       "      <td>Journal of Renewable and Sustainable Energy</td>\n",
       "      <td>2020</td>\n",
       "      <td>5.000000</td>\n",
       "      <td>3.0</td>\n",
       "      <td>3</td>\n",
       "      <td>5</td>\n",
       "      <td>4.0</td>\n",
       "      <td>1</td>\n",
       "    </tr>\n",
       "    <tr>\n",
       "      <th>35</th>\n",
       "      <td>10.1002/int.22216</td>\n",
       "      <td>Probabilistic linguistic information fusion: A...</td>\n",
       "      <td>International Journal of Intelligent Systems</td>\n",
       "      <td>2020</td>\n",
       "      <td>4.000000</td>\n",
       "      <td>4.0</td>\n",
       "      <td>3</td>\n",
       "      <td>4</td>\n",
       "      <td>3.5</td>\n",
       "      <td>2</td>\n",
       "    </tr>\n",
       "  </tbody>\n",
       "</table>\n",
       "</div>"
      ],
      "text/plain": [
       "                              DOI  \\\n",
       "1       10.1016/j.joi.2013.10.002   \n",
       "2       10.1016/j.joi.2014.09.006   \n",
       "3               10.1002/asi.23219   \n",
       "4       10.1007/s11192-014-1449-6   \n",
       "5               10.1002/asi.23243   \n",
       "6       10.1016/j.joi.2014.11.010   \n",
       "7      10.1016/j.ejor.2015.04.002   \n",
       "8       10.1016/j.joi.2015.01.006   \n",
       "9       10.1016/j.joi.2015.09.005   \n",
       "10     10.1103/physreve.92.032805   \n",
       "11      10.1016/j.joi.2016.02.007   \n",
       "12  10.1016/j.physrep.2016.06.007   \n",
       "13      10.1007/s11192-016-1893-6   \n",
       "14      10.1016/j.joi.2015.11.003   \n",
       "15      10.1016/j.joi.2015.12.001   \n",
       "16      10.1016/j.joi.2016.12.002   \n",
       "17      10.1016/j.joi.2017.10.006   \n",
       "18  10.1016/j.physrep.2017.05.001   \n",
       "19            10.3233/jifs-161640   \n",
       "20              10.1002/asi.23833   \n",
       "21      10.1007/s11192-018-2715-9   \n",
       "22      10.1016/j.joi.2017.11.001   \n",
       "23      10.1016/j.joi.2018.01.008   \n",
       "24      10.1016/j.joi.2018.01.010   \n",
       "25      10.1038/s41562-018-0399-z   \n",
       "26      10.1016/j.joi.2019.01.008   \n",
       "27  10.1016/j.physrep.2019.07.001   \n",
       "28      10.1016/j.joi.2018.11.003   \n",
       "29              10.1063/1.5087462   \n",
       "30     10.1007/s11192-019-03238-1   \n",
       "31     10.1007/s11192-020-03387-8   \n",
       "32     10.1007/s11192-020-03362-3   \n",
       "33     10.1007/s11192-020-03512-7   \n",
       "34              10.1063/1.5134731   \n",
       "35              10.1002/int.22216   \n",
       "\n",
       "                                                Title  \\\n",
       "1   The comparison of classification-system-based ...   \n",
       "2             The skewness of scientific productivity   \n",
       "3     Differences in citation impact across countries   \n",
       "4   Within- and between-department variability in ...   \n",
       "5   Journal maps, interactive overlays, and the me...   \n",
       "6   Field-normalized citation impact indicators us...   \n",
       "7   A review of theory and practice in scientometrics   \n",
       "8   Methods for the generation of normalized citat...   \n",
       "9   More precise methods for national research cit...   \n",
       "10  Measuring and modeling correlations in multipl...   \n",
       "11  A review of the literature on citation impact ...   \n",
       "12     Vital nodes identification in complex networks   \n",
       "13  How to normalize Twitter counts? A first attem...   \n",
       "14  Normalization of Mendeley reader counts for im...   \n",
       "15  The precision of the arithmetic mean, geometri...   \n",
       "16  Three practical field normalised alternative i...   \n",
       "17  Microsoft Academic: A multidisciplinary compar...   \n",
       "18               Ranking in evolving complex networks   \n",
       "19  Fuzzy decision making: A bibliometric-based re...   \n",
       "20  Scholarly use of social media and altmetrics: ...   \n",
       "21  Early Mendeley readers correlate with later ci...   \n",
       "22  Microsoft Academic automatic document searches...   \n",
       "23  Could scientists use Altmetric.com scores to p...   \n",
       "24  Normalization of zero-inflated data: An empiri...   \n",
       "25  Evaluating the replicability of social science...   \n",
       "26  Do altmetrics assess societal impact in a comp...   \n",
       "27          Coevolution spreading in complex networks   \n",
       "28  Predicting publication long-term impact throug...   \n",
       "29  A guideline to solar forecasting research prac...   \n",
       "30  The data source of this study is Web of Scienc...   \n",
       "31  A tale of two databases: the use of Web of Sci...   \n",
       "32  Funding information in Web of Science: an upda...   \n",
       "33  An evaluation of percentile measures of citati...   \n",
       "34  Ensemble model output statistics as a probabil...   \n",
       "35  Probabilistic linguistic information fusion: A...   \n",
       "\n",
       "                                                Venue  Year  AutScore  \\\n",
       "1                             Journal of Informetrics  2014  6.000000   \n",
       "2                             Journal of Informetrics  2014  5.500000   \n",
       "3   Journal of the Association for Information Sci...  2014  4.666667   \n",
       "4                                      Scientometrics  2014  5.500000   \n",
       "5   Journal of the Association for Information Sci...  2014  5.000000   \n",
       "6                             Journal of Informetrics  2015  6.000000   \n",
       "7            European Journal of Operational Research  2015  5.000000   \n",
       "8                             Journal of Informetrics  2015  5.000000   \n",
       "9                             Journal of Informetrics  2015  5.000000   \n",
       "10                                  Physical Review E  2015  6.000000   \n",
       "11                            Journal of Informetrics  2016  6.000000   \n",
       "12                                    Physics Reports  2016  5.500000   \n",
       "13                                     Scientometrics  2016  6.000000   \n",
       "14                            Journal of Informetrics  2016  6.000000   \n",
       "15                            Journal of Informetrics  2016  6.000000   \n",
       "16                            Journal of Informetrics  2017  6.000000   \n",
       "17                            Journal of Informetrics  2017  6.000000   \n",
       "18                                    Physics Reports  2017  4.800000   \n",
       "19            Journal of Intelligent \\& Fuzzy Systems  2017  6.000000   \n",
       "20  Journal of the Association for Information Sci...  2017  4.333333   \n",
       "21                                     Scientometrics  2018  5.000000   \n",
       "22                            Journal of Informetrics  2018  6.000000   \n",
       "23                            Journal of Informetrics  2018  6.000000   \n",
       "24                            Journal of Informetrics  2018  6.000000   \n",
       "25                             Nature Human Behaviour  2018  5.000000   \n",
       "26                            Journal of Informetrics  2019  5.000000   \n",
       "27                                    Physics Reports  2019  4.000000   \n",
       "28                            Journal of Informetrics  2019  3.000000   \n",
       "29        Journal of Renewable and Sustainable Energy  2019  5.000000   \n",
       "30                                     Scientometrics  2019  4.000000   \n",
       "31                                     Scientometrics  2020  3.500000   \n",
       "32                                     Scientometrics  2020  3.000000   \n",
       "33                                     Scientometrics  2020  4.000000   \n",
       "34        Journal of Renewable and Sustainable Energy  2020  5.000000   \n",
       "35       International Journal of Intelligent Systems  2020  4.000000   \n",
       "\n",
       "    VenScore  PubScore  CitScore  Score  Citation  \n",
       "1        6.0         6         2    4.0         2  \n",
       "2        6.0         2         6    4.0         6  \n",
       "3        5.0         1         3    2.0         3  \n",
       "4        6.0         2         1    1.5         1  \n",
       "5        5.0         1         1    1.0         1  \n",
       "6        6.0         6         6    6.0         4  \n",
       "7        5.0         2         4    3.0         6  \n",
       "8        6.0         3         3    3.0         3  \n",
       "9        6.0         3         3    3.0         2  \n",
       "10       5.0         3         3    3.0         3  \n",
       "11       6.0         6         6    6.0         5  \n",
       "12       6.0         5         5    5.0         6  \n",
       "13       6.0         6         3    4.5         2  \n",
       "14       6.0         6         3    4.5         2  \n",
       "15       6.0         6         3    4.5         2  \n",
       "16       6.0         6         5    5.5         3  \n",
       "17       6.0         6         3    4.5         1  \n",
       "18       6.0         4         5    4.5         3  \n",
       "19       4.0         3         6    4.5         5  \n",
       "20       5.0         2         6    4.0         4  \n",
       "21       6.0         5         5    5.0         2  \n",
       "22       6.0         6         3    4.5         1  \n",
       "23       6.0         6         3    4.5         1  \n",
       "24       6.0         6         3    4.5         1  \n",
       "25       4.0         3         6    4.5         5  \n",
       "26       6.0         5         6    5.5         3  \n",
       "27       6.0         4         6    5.0         3  \n",
       "28       6.0         4         5    4.5         2  \n",
       "29       3.0         3         6    4.5         3  \n",
       "30       6.0         4         4    4.0         1  \n",
       "31       6.0         5         6    5.5         3  \n",
       "32       6.0         5         5    5.0         1  \n",
       "33       6.0         5         3    4.0         1  \n",
       "34       3.0         3         5    4.0         1  \n",
       "35       4.0         3         4    3.5         2  "
      ]
     },
     "execution_count": 26,
     "metadata": {},
     "output_type": "execute_result"
    },
    {
     "data": {
      "image/png": "[encoded data removed]",
      "text/plain": [
       "<Figure size 432x288 with 2 Axes>"
      ]
     },
     "metadata": {
      "needs_background": "light"
     },
     "output_type": "display_data"
    }
   ],
   "source": [
    "%time Index.generateQualitativeResults(PublicationInfoCSV, PublicationRankCSV, metaData, corrF, gridF)"
   ]
  },
  {
   "cell_type": "code",
   "execution_count": 27,
   "metadata": {
    "scrolled": false
   },
   "outputs": [
    {
     "name": "stdout",
     "output_type": "stream",
     "text": [
      "1303 10018 1000 348 5157 0.06748109365910412\n",
      "Wall time: 3.93 s\n"
     ]
    },
    {
     "data": {
      "text/plain": [
       "348"
      ]
     },
     "execution_count": 27,
     "metadata": {},
     "output_type": "execute_result"
    }
   ],
   "source": [
    "%time Index.generateComparison(metaData, PublicationInfoCSV, DOItestPkl, True)"
   ]
  },
  {
   "cell_type": "code",
   "execution_count": 28,
   "metadata": {},
   "outputs": [
    {
     "name": "stdout",
     "output_type": "stream",
     "text": [
      "min\n",
      " beta       0.0\n",
      "gamma      0.0\n",
      "val      321.0\n",
      "dtype: float64\n",
      "max\n",
      " beta       1.0\n",
      "gamma      1.0\n",
      "val      357.0\n",
      "dtype: float64\n",
      "mean\n",
      " beta       0.500000\n",
      "gamma      0.500000\n",
      "val      345.264463\n",
      "dtype: float64\n",
      "Wall time: 26min 4s\n"
     ]
    }
   ],
   "source": [
    "%time Index.generateQuantitativeResults (VenueInfoCSV, metaData, citNet, PublicationGraph, PublicationHash, AuthorInfoCSV, PublicationInfoCSV, DOItestPkl)"
   ]
  },
  {
   "cell_type": "code",
   "execution_count": 29,
   "metadata": {},
   "outputs": [
    {
     "name": "stdout",
     "output_type": "stream",
     "text": [
      "refs in Bibliographic Coupling Top 0 0\n",
      "refs in Cocited list Top 1000 137\n",
      "Wall time: 54.3 s\n"
     ]
    }
   ],
   "source": [
    "%time Index.generateBaseline (citNetFull, DOIPkl, DOItestPkl)"
   ]
  }
 ],
 "metadata": {
  "kernelspec": {
   "display_name": "Python 3",
   "language": "python",
   "name": "python3"
  },
  "language_info": {
   "codemirror_mode": {
    "name": "ipython",
    "version": 3
   },
   "file_extension": ".py",
   "mimetype": "text/x-python",
   "name": "python",
   "nbconvert_exporter": "python",
   "pygments_lexer": "ipython3",
   "version": "3.7.3"
  }
 },
 "nbformat": 4,
 "nbformat_minor": 2
}
